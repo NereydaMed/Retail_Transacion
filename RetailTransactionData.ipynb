{
  "nbformat": 4,
  "nbformat_minor": 0,
  "metadata": {
    "colab": {
      "name": "RetailTransactionData.ipynb",
      "provenance": [],
      "collapsed_sections": [],
      "mount_file_id": "1mnvON0hldUwNlbTRxAGH8eyWooPe7kRN",
      "authorship_tag": "ABX9TyOIZi/lS3vGLroibdV6Pool",
      "include_colab_link": true
    },
    "kernelspec": {
      "name": "python3",
      "display_name": "Python 3"
    },
    "language_info": {
      "name": "python"
    }
  },
  "cells": [
    {
      "cell_type": "markdown",
      "metadata": {
        "id": "view-in-github",
        "colab_type": "text"
      },
      "source": [
        "<a href=\"https://colab.research.google.com/github/NereydaMed/Retail_Transacion/blob/main/RetailTransactionData.ipynb\" target=\"_parent\"><img src=\"https://colab.research.google.com/assets/colab-badge.svg\" alt=\"Open In Colab\"/></a>"
      ]
    },
    {
      "cell_type": "code",
      "metadata": {
        "colab": {
          "base_uri": "https://localhost:8080/",
          "height": 197
        },
        "id": "J2RjJeLyA-9e",
        "outputId": "47a792ed-fd59-4e1b-f2da-192f699ee33a"
      },
      "source": [
        "import pandas as pd\n",
        "import numpy as np\n",
        "import missingno as msno\n",
        "\n",
        "#Lectura del primer archivo, por su tamaño lo podemos abrir directamente en Python\n",
        "path = 'https://www.kaggle.com/regivm/retailtransactiondata'\n",
        "df = pd.read_csv(path, encoding='latin', error_bad_lines=False)\n",
        "df.head()"
      ],
      "execution_count": 1,
      "outputs": [
        {
          "output_type": "execute_result",
          "data": {
            "text/html": [
              "<div>\n",
              "<style scoped>\n",
              "    .dataframe tbody tr th:only-of-type {\n",
              "        vertical-align: middle;\n",
              "    }\n",
              "\n",
              "    .dataframe tbody tr th {\n",
              "        vertical-align: top;\n",
              "    }\n",
              "\n",
              "    .dataframe thead th {\n",
              "        text-align: right;\n",
              "    }\n",
              "</style>\n",
              "<table border=\"1\" class=\"dataframe\">\n",
              "  <thead>\n",
              "    <tr style=\"text-align: right;\">\n",
              "      <th></th>\n",
              "      <th>customer_id</th>\n",
              "      <th>response</th>\n",
              "    </tr>\n",
              "  </thead>\n",
              "  <tbody>\n",
              "    <tr>\n",
              "      <th>0</th>\n",
              "      <td>CS1112</td>\n",
              "      <td>0</td>\n",
              "    </tr>\n",
              "    <tr>\n",
              "      <th>1</th>\n",
              "      <td>CS1113</td>\n",
              "      <td>0</td>\n",
              "    </tr>\n",
              "    <tr>\n",
              "      <th>2</th>\n",
              "      <td>CS1114</td>\n",
              "      <td>1</td>\n",
              "    </tr>\n",
              "    <tr>\n",
              "      <th>3</th>\n",
              "      <td>CS1115</td>\n",
              "      <td>1</td>\n",
              "    </tr>\n",
              "    <tr>\n",
              "      <th>4</th>\n",
              "      <td>CS1116</td>\n",
              "      <td>1</td>\n",
              "    </tr>\n",
              "  </tbody>\n",
              "</table>\n",
              "</div>"
            ],
            "text/plain": [
              "  customer_id  response\n",
              "0      CS1112         0\n",
              "1      CS1113         0\n",
              "2      CS1114         1\n",
              "3      CS1115         1\n",
              "4      CS1116         1"
            ]
          },
          "metadata": {
            "tags": []
          },
          "execution_count": 1
        }
      ]
    },
    {
      "cell_type": "markdown",
      "metadata": {
        "id": "X_nz0YpOIv3s"
      },
      "source": [
        "#1.\tConstruir una tabla resumen de datos donde se pueda obtener el número de respuestas positivas y negativas a las campañas"
      ]
    },
    {
      "cell_type": "code",
      "metadata": {
        "colab": {
          "base_uri": "https://localhost:8080/"
        },
        "id": "Linfqm8RKD35",
        "outputId": "35c991f1-c1d2-4a38-dd1b-82bea19dc6bd"
      },
      "source": [
        "df.groupby('response')['response'].agg('count')"
      ],
      "execution_count": null,
      "outputs": [
        {
          "output_type": "execute_result",
          "data": {
            "text/plain": [
              "response\n",
              "0    6237\n",
              "1     647\n",
              "Name: response, dtype: int64"
            ]
          },
          "metadata": {
            "tags": []
          },
          "execution_count": 3
        }
      ]
    },
    {
      "cell_type": "markdown",
      "metadata": {
        "id": "kJX7pnRgLAg_"
      },
      "source": [
        "#2.\tColocar únicamente los clientes que respondieron a las campañas positivamente para enviar al equipo de marketing. "
      ]
    },
    {
      "cell_type": "code",
      "metadata": {
        "colab": {
          "base_uri": "https://localhost:8080/",
          "height": 406
        },
        "id": "lKhIQofmL0di",
        "outputId": "5cdee791-bd56-4389-bec3-2ab8156746a4"
      },
      "source": [
        "df_P = df.loc[:, 'response'] == 1\n",
        "df_2 = df.loc[df_P]\n",
        "df_2=df_2.loc[:,['customer_id','response']]\n",
        "df_2"
      ],
      "execution_count": null,
      "outputs": [
        {
          "output_type": "execute_result",
          "data": {
            "text/html": [
              "<div>\n",
              "<style scoped>\n",
              "    .dataframe tbody tr th:only-of-type {\n",
              "        vertical-align: middle;\n",
              "    }\n",
              "\n",
              "    .dataframe tbody tr th {\n",
              "        vertical-align: top;\n",
              "    }\n",
              "\n",
              "    .dataframe thead th {\n",
              "        text-align: right;\n",
              "    }\n",
              "</style>\n",
              "<table border=\"1\" class=\"dataframe\">\n",
              "  <thead>\n",
              "    <tr style=\"text-align: right;\">\n",
              "      <th></th>\n",
              "      <th>customer_id</th>\n",
              "      <th>response</th>\n",
              "    </tr>\n",
              "  </thead>\n",
              "  <tbody>\n",
              "    <tr>\n",
              "      <th>2</th>\n",
              "      <td>CS1114</td>\n",
              "      <td>1</td>\n",
              "    </tr>\n",
              "    <tr>\n",
              "      <th>3</th>\n",
              "      <td>CS1115</td>\n",
              "      <td>1</td>\n",
              "    </tr>\n",
              "    <tr>\n",
              "      <th>4</th>\n",
              "      <td>CS1116</td>\n",
              "      <td>1</td>\n",
              "    </tr>\n",
              "    <tr>\n",
              "      <th>6</th>\n",
              "      <td>CS1118</td>\n",
              "      <td>1</td>\n",
              "    </tr>\n",
              "    <tr>\n",
              "      <th>23</th>\n",
              "      <td>CS1135</td>\n",
              "      <td>1</td>\n",
              "    </tr>\n",
              "    <tr>\n",
              "      <th>...</th>\n",
              "      <td>...</td>\n",
              "      <td>...</td>\n",
              "    </tr>\n",
              "    <tr>\n",
              "      <th>6645</th>\n",
              "      <td>CS8762</td>\n",
              "      <td>1</td>\n",
              "    </tr>\n",
              "    <tr>\n",
              "      <th>6728</th>\n",
              "      <td>CS8845</td>\n",
              "      <td>1</td>\n",
              "    </tr>\n",
              "    <tr>\n",
              "      <th>6738</th>\n",
              "      <td>CS8855</td>\n",
              "      <td>1</td>\n",
              "    </tr>\n",
              "    <tr>\n",
              "      <th>6788</th>\n",
              "      <td>CS8905</td>\n",
              "      <td>1</td>\n",
              "    </tr>\n",
              "    <tr>\n",
              "      <th>6854</th>\n",
              "      <td>CS8971</td>\n",
              "      <td>1</td>\n",
              "    </tr>\n",
              "  </tbody>\n",
              "</table>\n",
              "<p>647 rows × 2 columns</p>\n",
              "</div>"
            ],
            "text/plain": [
              "     customer_id  response\n",
              "2         CS1114         1\n",
              "3         CS1115         1\n",
              "4         CS1116         1\n",
              "6         CS1118         1\n",
              "23        CS1135         1\n",
              "...          ...       ...\n",
              "6645      CS8762         1\n",
              "6728      CS8845         1\n",
              "6738      CS8855         1\n",
              "6788      CS8905         1\n",
              "6854      CS8971         1\n",
              "\n",
              "[647 rows x 2 columns]"
            ]
          },
          "metadata": {
            "tags": []
          },
          "execution_count": 9
        }
      ]
    },
    {
      "cell_type": "code",
      "metadata": {
        "colab": {
          "base_uri": "https://localhost:8080/",
          "height": 197
        },
        "id": "hT3Prf0hOFJ2",
        "outputId": "90efbab5-2dc7-4c2a-c2c0-dbe928b55711"
      },
      "source": [
        "#Abrimos el siguiente archivo\n",
        "path = '/content/drive/MyDrive/Retail_Data_Transactions.csv'\n",
        "df = pd.read_csv(path, encoding='latin', error_bad_lines=False)\n",
        "df.head()"
      ],
      "execution_count": 2,
      "outputs": [
        {
          "output_type": "execute_result",
          "data": {
            "text/html": [
              "<div>\n",
              "<style scoped>\n",
              "    .dataframe tbody tr th:only-of-type {\n",
              "        vertical-align: middle;\n",
              "    }\n",
              "\n",
              "    .dataframe tbody tr th {\n",
              "        vertical-align: top;\n",
              "    }\n",
              "\n",
              "    .dataframe thead th {\n",
              "        text-align: right;\n",
              "    }\n",
              "</style>\n",
              "<table border=\"1\" class=\"dataframe\">\n",
              "  <thead>\n",
              "    <tr style=\"text-align: right;\">\n",
              "      <th></th>\n",
              "      <th>customer_id</th>\n",
              "      <th>trans_date</th>\n",
              "      <th>tran_amount</th>\n",
              "    </tr>\n",
              "  </thead>\n",
              "  <tbody>\n",
              "    <tr>\n",
              "      <th>0</th>\n",
              "      <td>CS5295</td>\n",
              "      <td>11-Feb-13</td>\n",
              "      <td>35</td>\n",
              "    </tr>\n",
              "    <tr>\n",
              "      <th>1</th>\n",
              "      <td>CS4768</td>\n",
              "      <td>15-Mar-15</td>\n",
              "      <td>39</td>\n",
              "    </tr>\n",
              "    <tr>\n",
              "      <th>2</th>\n",
              "      <td>CS2122</td>\n",
              "      <td>26-Feb-13</td>\n",
              "      <td>52</td>\n",
              "    </tr>\n",
              "    <tr>\n",
              "      <th>3</th>\n",
              "      <td>CS1217</td>\n",
              "      <td>16-Nov-11</td>\n",
              "      <td>99</td>\n",
              "    </tr>\n",
              "    <tr>\n",
              "      <th>4</th>\n",
              "      <td>CS1850</td>\n",
              "      <td>20-Nov-13</td>\n",
              "      <td>78</td>\n",
              "    </tr>\n",
              "  </tbody>\n",
              "</table>\n",
              "</div>"
            ],
            "text/plain": [
              "  customer_id trans_date  tran_amount\n",
              "0      CS5295  11-Feb-13           35\n",
              "1      CS4768  15-Mar-15           39\n",
              "2      CS2122  26-Feb-13           52\n",
              "3      CS1217  16-Nov-11           99\n",
              "4      CS1850  20-Nov-13           78"
            ]
          },
          "metadata": {
            "tags": []
          },
          "execution_count": 2
        }
      ]
    },
    {
      "cell_type": "code",
      "metadata": {
        "id": "mjOOj-C5OXd1",
        "colab": {
          "base_uri": "https://localhost:8080/"
        },
        "outputId": "41894230-9b12-4b8d-e009-52bb44aa7b0e"
      },
      "source": [
        "df.info() #revisamos si todos los datos tienen el formato correcto y su información"
      ],
      "execution_count": 3,
      "outputs": [
        {
          "output_type": "stream",
          "text": [
            "<class 'pandas.core.frame.DataFrame'>\n",
            "RangeIndex: 125000 entries, 0 to 124999\n",
            "Data columns (total 3 columns):\n",
            " #   Column       Non-Null Count   Dtype \n",
            "---  ------       --------------   ----- \n",
            " 0   customer_id  125000 non-null  object\n",
            " 1   trans_date   125000 non-null  object\n",
            " 2   tran_amount  125000 non-null  int64 \n",
            "dtypes: int64(1), object(2)\n",
            "memory usage: 2.9+ MB\n"
          ],
          "name": "stdout"
        }
      ]
    },
    {
      "cell_type": "markdown",
      "metadata": {
        "id": "XvfcgHxLoMgB"
      },
      "source": [
        "Tenemos 3 columnas con 125,000 datos, pero como la fecha no esta en formato fecha haremos el cambio de formato de fechas"
      ]
    },
    {
      "cell_type": "code",
      "metadata": {
        "id": "jaR0plc1PfNt"
      },
      "source": [
        "\n",
        "df['trans_date']=pd.to_datetime(df['trans_date'],errors='coerce')"
      ],
      "execution_count": 4,
      "outputs": []
    },
    {
      "cell_type": "code",
      "metadata": {
        "colab": {
          "base_uri": "https://localhost:8080/"
        },
        "id": "0zE3JPidQBVw",
        "outputId": "6a5ae766-d5e5-4761-9350-b6f406f07586"
      },
      "source": [
        "df.info() #revisamos que ya sea el correcto"
      ],
      "execution_count": null,
      "outputs": [
        {
          "output_type": "stream",
          "text": [
            "<class 'pandas.core.frame.DataFrame'>\n",
            "RangeIndex: 125000 entries, 0 to 124999\n",
            "Data columns (total 3 columns):\n",
            " #   Column       Non-Null Count   Dtype         \n",
            "---  ------       --------------   -----         \n",
            " 0   customer_id  125000 non-null  object        \n",
            " 1   trans_date   125000 non-null  datetime64[ns]\n",
            " 2   tran_amount  125000 non-null  int64         \n",
            "dtypes: datetime64[ns](1), int64(1), object(1)\n",
            "memory usage: 2.9+ MB\n"
          ],
          "name": "stdout"
        }
      ]
    },
    {
      "cell_type": "markdown",
      "metadata": {
        "id": "bSbMyy0ToRdv"
      },
      "source": [
        "Revisamos si hay datos nulos o duplicados"
      ]
    },
    {
      "cell_type": "code",
      "metadata": {
        "colab": {
          "base_uri": "https://localhost:8080/"
        },
        "id": "-1n8GIc_oeNL",
        "outputId": "62abf2c5-9151-4d2b-b4c9-8847affd1da1"
      },
      "source": [
        "df.isnull().any().any()"
      ],
      "execution_count": 33,
      "outputs": [
        {
          "output_type": "execute_result",
          "data": {
            "text/plain": [
              "False"
            ]
          },
          "metadata": {
            "tags": []
          },
          "execution_count": 33
        }
      ]
    },
    {
      "cell_type": "markdown",
      "metadata": {
        "id": "PdVVRQvHp5Wk"
      },
      "source": [
        "el resultado de valores nulos dio Falso por lo tanto, podemos trabajr con los datos y revisamos previamente sus principales variables"
      ]
    },
    {
      "cell_type": "code",
      "metadata": {
        "colab": {
          "base_uri": "https://localhost:8080/",
          "height": 297
        },
        "id": "WfdW80Ixp1vX",
        "outputId": "b280718a-fe60-4dae-c72a-c8f6e07c6980"
      },
      "source": [
        "df.describe()"
      ],
      "execution_count": 34,
      "outputs": [
        {
          "output_type": "execute_result",
          "data": {
            "text/html": [
              "<div>\n",
              "<style scoped>\n",
              "    .dataframe tbody tr th:only-of-type {\n",
              "        vertical-align: middle;\n",
              "    }\n",
              "\n",
              "    .dataframe tbody tr th {\n",
              "        vertical-align: top;\n",
              "    }\n",
              "\n",
              "    .dataframe thead th {\n",
              "        text-align: right;\n",
              "    }\n",
              "</style>\n",
              "<table border=\"1\" class=\"dataframe\">\n",
              "  <thead>\n",
              "    <tr style=\"text-align: right;\">\n",
              "      <th></th>\n",
              "      <th>tran_amount</th>\n",
              "    </tr>\n",
              "  </thead>\n",
              "  <tbody>\n",
              "    <tr>\n",
              "      <th>count</th>\n",
              "      <td>125000.000000</td>\n",
              "    </tr>\n",
              "    <tr>\n",
              "      <th>mean</th>\n",
              "      <td>64.991912</td>\n",
              "    </tr>\n",
              "    <tr>\n",
              "      <th>std</th>\n",
              "      <td>22.860006</td>\n",
              "    </tr>\n",
              "    <tr>\n",
              "      <th>min</th>\n",
              "      <td>10.000000</td>\n",
              "    </tr>\n",
              "    <tr>\n",
              "      <th>25%</th>\n",
              "      <td>47.000000</td>\n",
              "    </tr>\n",
              "    <tr>\n",
              "      <th>50%</th>\n",
              "      <td>65.000000</td>\n",
              "    </tr>\n",
              "    <tr>\n",
              "      <th>75%</th>\n",
              "      <td>83.000000</td>\n",
              "    </tr>\n",
              "    <tr>\n",
              "      <th>max</th>\n",
              "      <td>105.000000</td>\n",
              "    </tr>\n",
              "  </tbody>\n",
              "</table>\n",
              "</div>"
            ],
            "text/plain": [
              "         tran_amount\n",
              "count  125000.000000\n",
              "mean       64.991912\n",
              "std        22.860006\n",
              "min        10.000000\n",
              "25%        47.000000\n",
              "50%        65.000000\n",
              "75%        83.000000\n",
              "max       105.000000"
            ]
          },
          "metadata": {
            "tags": []
          },
          "execution_count": 34
        }
      ]
    },
    {
      "cell_type": "markdown",
      "metadata": {
        "id": "ya-IVC0-N3jx"
      },
      "source": [
        "#3.\t¿Cuál fue el monto transaccional promedio por mes del último año? "
      ]
    },
    {
      "cell_type": "code",
      "metadata": {
        "colab": {
          "base_uri": "https://localhost:8080/"
        },
        "id": "7ZoFe-ekS1ze",
        "outputId": "0e62112a-3b3f-41bc-a48d-65572f7cd083"
      },
      "source": [
        "##Extracción de Mes\n",
        "import datetime\n",
        "#Como la fecha esta completa separaremos mes y año para que los filtros sean más faciles\n",
        "\n",
        "df['year'] = pd.DatetimeIndex(df['trans_date']).year   #Añadimos la variable Año\n",
        "df['month'] = pd.DatetimeIndex(df['trans_date']).month #Añadimos la variable mes\n",
        "\n",
        "print(df)"
      ],
      "execution_count": 41,
      "outputs": [
        {
          "output_type": "stream",
          "text": [
            "       customer_id trans_date  tran_amount  year  month\n",
            "0           CS5295 2013-02-11           35  2013      2\n",
            "1           CS4768 2015-03-15           39  2015      3\n",
            "2           CS2122 2013-02-26           52  2013      2\n",
            "3           CS1217 2011-11-16           99  2011     11\n",
            "4           CS1850 2013-11-20           78  2013     11\n",
            "...            ...        ...          ...   ...    ...\n",
            "124995      CS8433 2011-06-26           64  2011      6\n",
            "124996      CS7232 2014-08-19           38  2014      8\n",
            "124997      CS8731 2014-11-28           42  2014     11\n",
            "124998      CS8133 2013-12-14           13  2013     12\n",
            "124999      CS7996 2014-12-13           36  2014     12\n",
            "\n",
            "[125000 rows x 5 columns]\n"
          ],
          "name": "stdout"
        }
      ]
    },
    {
      "cell_type": "code",
      "metadata": {
        "colab": {
          "base_uri": "https://localhost:8080/",
          "height": 167
        },
        "id": "9zdnfLVedpsf",
        "outputId": "eaec89f0-d76a-4eca-c8e1-2b48d0cb8803"
      },
      "source": [
        "Isyear= df.loc[:, 'year'] == 2015 \n",
        "df_2 = df.loc[Isyear]\n",
        "df_2=df_2.loc[:,['customer_id','tran_amount','month']] #creo un dataframe temporal con los datos del 2015 que es el ultimo año\n",
        "df_2.groupby(['month'])['tran_amount'].agg(Monto_Promedio=\"mean\") #selecciono la media agrupando por mes"
      ],
      "execution_count": null,
      "outputs": [
        {
          "output_type": "execute_result",
          "data": {
            "text/html": [
              "<div>\n",
              "<style scoped>\n",
              "    .dataframe tbody tr th:only-of-type {\n",
              "        vertical-align: middle;\n",
              "    }\n",
              "\n",
              "    .dataframe tbody tr th {\n",
              "        vertical-align: top;\n",
              "    }\n",
              "\n",
              "    .dataframe thead th {\n",
              "        text-align: right;\n",
              "    }\n",
              "</style>\n",
              "<table border=\"1\" class=\"dataframe\">\n",
              "  <thead>\n",
              "    <tr style=\"text-align: right;\">\n",
              "      <th></th>\n",
              "      <th>Monto_Promedio</th>\n",
              "    </tr>\n",
              "    <tr>\n",
              "      <th>month</th>\n",
              "      <th></th>\n",
              "    </tr>\n",
              "  </thead>\n",
              "  <tbody>\n",
              "    <tr>\n",
              "      <th>1</th>\n",
              "      <td>65.371501</td>\n",
              "    </tr>\n",
              "    <tr>\n",
              "      <th>2</th>\n",
              "      <td>65.062424</td>\n",
              "    </tr>\n",
              "    <tr>\n",
              "      <th>3</th>\n",
              "      <td>65.264281</td>\n",
              "    </tr>\n",
              "  </tbody>\n",
              "</table>\n",
              "</div>"
            ],
            "text/plain": [
              "       Monto_Promedio\n",
              "month                \n",
              "1           65.371501\n",
              "2           65.062424\n",
              "3           65.264281"
            ]
          },
          "metadata": {
            "tags": []
          },
          "execution_count": 30
        }
      ]
    },
    {
      "cell_type": "markdown",
      "metadata": {
        "id": "YXkhdInYfTta"
      },
      "source": [
        "#4.\tObtener monto promedio del mes de junio para cada año. "
      ]
    },
    {
      "cell_type": "code",
      "metadata": {
        "colab": {
          "base_uri": "https://localhost:8080/",
          "height": 197
        },
        "id": "PdpRgq9LfXK0",
        "outputId": "9b879ff1-cba5-40ea-8459-5e532a9140f6"
      },
      "source": [
        "IsJun= df.loc[:, 'month'] == 5 \n",
        "df_2 = df.loc[IsJun]\n",
        "df_2=df_2.loc[:,['customer_id','tran_amount','year']] #creo un dataframe temporal con los datos de Junio\n",
        "df_2.groupby(['year'])['tran_amount'].agg(Monto_Promedio=\"mean\") #selecciono la media agrupando por mes"
      ],
      "execution_count": null,
      "outputs": [
        {
          "output_type": "execute_result",
          "data": {
            "text/html": [
              "<div>\n",
              "<style scoped>\n",
              "    .dataframe tbody tr th:only-of-type {\n",
              "        vertical-align: middle;\n",
              "    }\n",
              "\n",
              "    .dataframe tbody tr th {\n",
              "        vertical-align: top;\n",
              "    }\n",
              "\n",
              "    .dataframe thead th {\n",
              "        text-align: right;\n",
              "    }\n",
              "</style>\n",
              "<table border=\"1\" class=\"dataframe\">\n",
              "  <thead>\n",
              "    <tr style=\"text-align: right;\">\n",
              "      <th></th>\n",
              "      <th>Monto_Promedio</th>\n",
              "    </tr>\n",
              "    <tr>\n",
              "      <th>year</th>\n",
              "      <th></th>\n",
              "    </tr>\n",
              "  </thead>\n",
              "  <tbody>\n",
              "    <tr>\n",
              "      <th>2011</th>\n",
              "      <td>66.633670</td>\n",
              "    </tr>\n",
              "    <tr>\n",
              "      <th>2012</th>\n",
              "      <td>65.547820</td>\n",
              "    </tr>\n",
              "    <tr>\n",
              "      <th>2013</th>\n",
              "      <td>64.906043</td>\n",
              "    </tr>\n",
              "    <tr>\n",
              "      <th>2014</th>\n",
              "      <td>64.913859</td>\n",
              "    </tr>\n",
              "  </tbody>\n",
              "</table>\n",
              "</div>"
            ],
            "text/plain": [
              "      Monto_Promedio\n",
              "year                \n",
              "2011       66.633670\n",
              "2012       65.547820\n",
              "2013       64.906043\n",
              "2014       64.913859"
            ]
          },
          "metadata": {
            "tags": []
          },
          "execution_count": 31
        }
      ]
    },
    {
      "cell_type": "markdown",
      "metadata": {
        "id": "24Mqubevf2Dd"
      },
      "source": [
        "#5.\tConseguir transacción promedio por cliente. "
      ]
    },
    {
      "cell_type": "code",
      "metadata": {
        "colab": {
          "base_uri": "https://localhost:8080/",
          "height": 436
        },
        "id": "Xktz4qCaf3Vm",
        "outputId": "59b15947-8685-42ce-e842-259e24a9f016"
      },
      "source": [
        "df.groupby('customer_id')['tran_amount'].agg(Monto_Promedio=\"mean\") #Agrupo por cliente y asigno el monto transaccional promedio"
      ],
      "execution_count": null,
      "outputs": [
        {
          "output_type": "execute_result",
          "data": {
            "text/html": [
              "<div>\n",
              "<style scoped>\n",
              "    .dataframe tbody tr th:only-of-type {\n",
              "        vertical-align: middle;\n",
              "    }\n",
              "\n",
              "    .dataframe tbody tr th {\n",
              "        vertical-align: top;\n",
              "    }\n",
              "\n",
              "    .dataframe thead th {\n",
              "        text-align: right;\n",
              "    }\n",
              "</style>\n",
              "<table border=\"1\" class=\"dataframe\">\n",
              "  <thead>\n",
              "    <tr style=\"text-align: right;\">\n",
              "      <th></th>\n",
              "      <th>Monto_Promedio</th>\n",
              "    </tr>\n",
              "    <tr>\n",
              "      <th>customer_id</th>\n",
              "      <th></th>\n",
              "    </tr>\n",
              "  </thead>\n",
              "  <tbody>\n",
              "    <tr>\n",
              "      <th>CS1112</th>\n",
              "      <td>67.466667</td>\n",
              "    </tr>\n",
              "    <tr>\n",
              "      <th>CS1113</th>\n",
              "      <td>74.500000</td>\n",
              "    </tr>\n",
              "    <tr>\n",
              "      <th>CS1114</th>\n",
              "      <td>75.368421</td>\n",
              "    </tr>\n",
              "    <tr>\n",
              "      <th>CS1115</th>\n",
              "      <td>75.409091</td>\n",
              "    </tr>\n",
              "    <tr>\n",
              "      <th>CS1116</th>\n",
              "      <td>65.923077</td>\n",
              "    </tr>\n",
              "    <tr>\n",
              "      <th>...</th>\n",
              "      <td>...</td>\n",
              "    </tr>\n",
              "    <tr>\n",
              "      <th>CS8996</th>\n",
              "      <td>44.769231</td>\n",
              "    </tr>\n",
              "    <tr>\n",
              "      <th>CS8997</th>\n",
              "      <td>38.785714</td>\n",
              "    </tr>\n",
              "    <tr>\n",
              "      <th>CS8998</th>\n",
              "      <td>48.000000</td>\n",
              "    </tr>\n",
              "    <tr>\n",
              "      <th>CS8999</th>\n",
              "      <td>31.916667</td>\n",
              "    </tr>\n",
              "    <tr>\n",
              "      <th>CS9000</th>\n",
              "      <td>41.000000</td>\n",
              "    </tr>\n",
              "  </tbody>\n",
              "</table>\n",
              "<p>6889 rows × 1 columns</p>\n",
              "</div>"
            ],
            "text/plain": [
              "             Monto_Promedio\n",
              "customer_id                \n",
              "CS1112            67.466667\n",
              "CS1113            74.500000\n",
              "CS1114            75.368421\n",
              "CS1115            75.409091\n",
              "CS1116            65.923077\n",
              "...                     ...\n",
              "CS8996            44.769231\n",
              "CS8997            38.785714\n",
              "CS8998            48.000000\n",
              "CS8999            31.916667\n",
              "CS9000            41.000000\n",
              "\n",
              "[6889 rows x 1 columns]"
            ]
          },
          "metadata": {
            "tags": []
          },
          "execution_count": 32
        }
      ]
    },
    {
      "cell_type": "markdown",
      "metadata": {
        "id": "m3OPbkROgM2N"
      },
      "source": [
        "#6.\tIdentificar top 100 de los clientes con mayor monto transaccional. "
      ]
    },
    {
      "cell_type": "code",
      "metadata": {
        "colab": {
          "base_uri": "https://localhost:8080/",
          "height": 406
        },
        "id": "voE1WoYvgOps",
        "outputId": "632a8c46-df50-44cd-c197-3bd792463233"
      },
      "source": [
        "#Creo un dataframe temporal agrupando por cliente para sumar el monto de transacción\n",
        "df_Clientes=df.groupby('customer_id')['tran_amount'].agg(Monto_Total=\"sum\").reset_index()\n",
        "\n",
        "#Despues ordeno de mayor a menor y solo muestro los 100 primeros\n",
        "df_Clientes.sort_values('Monto_Total',ascending=False).head(100)"
      ],
      "execution_count": 37,
      "outputs": [
        {
          "output_type": "execute_result",
          "data": {
            "text/html": [
              "<div>\n",
              "<style scoped>\n",
              "    .dataframe tbody tr th:only-of-type {\n",
              "        vertical-align: middle;\n",
              "    }\n",
              "\n",
              "    .dataframe tbody tr th {\n",
              "        vertical-align: top;\n",
              "    }\n",
              "\n",
              "    .dataframe thead th {\n",
              "        text-align: right;\n",
              "    }\n",
              "</style>\n",
              "<table border=\"1\" class=\"dataframe\">\n",
              "  <thead>\n",
              "    <tr style=\"text-align: right;\">\n",
              "      <th></th>\n",
              "      <th>customer_id</th>\n",
              "      <th>Monto_Total</th>\n",
              "    </tr>\n",
              "  </thead>\n",
              "  <tbody>\n",
              "    <tr>\n",
              "      <th>3312</th>\n",
              "      <td>CS4424</td>\n",
              "      <td>2933</td>\n",
              "    </tr>\n",
              "    <tr>\n",
              "      <th>3208</th>\n",
              "      <td>CS4320</td>\n",
              "      <td>2647</td>\n",
              "    </tr>\n",
              "    <tr>\n",
              "      <th>4640</th>\n",
              "      <td>CS5752</td>\n",
              "      <td>2612</td>\n",
              "    </tr>\n",
              "    <tr>\n",
              "      <th>3548</th>\n",
              "      <td>CS4660</td>\n",
              "      <td>2527</td>\n",
              "    </tr>\n",
              "    <tr>\n",
              "      <th>2687</th>\n",
              "      <td>CS3799</td>\n",
              "      <td>2513</td>\n",
              "    </tr>\n",
              "    <tr>\n",
              "      <th>...</th>\n",
              "      <td>...</td>\n",
              "      <td>...</td>\n",
              "    </tr>\n",
              "    <tr>\n",
              "      <th>2710</th>\n",
              "      <td>CS3822</td>\n",
              "      <td>2101</td>\n",
              "    </tr>\n",
              "    <tr>\n",
              "      <th>3027</th>\n",
              "      <td>CS4139</td>\n",
              "      <td>2099</td>\n",
              "    </tr>\n",
              "    <tr>\n",
              "      <th>1664</th>\n",
              "      <td>CS2776</td>\n",
              "      <td>2099</td>\n",
              "    </tr>\n",
              "    <tr>\n",
              "      <th>1370</th>\n",
              "      <td>CS2482</td>\n",
              "      <td>2098</td>\n",
              "    </tr>\n",
              "    <tr>\n",
              "      <th>3916</th>\n",
              "      <td>CS5028</td>\n",
              "      <td>2098</td>\n",
              "    </tr>\n",
              "  </tbody>\n",
              "</table>\n",
              "<p>100 rows × 2 columns</p>\n",
              "</div>"
            ],
            "text/plain": [
              "     customer_id  Monto_Total\n",
              "3312      CS4424         2933\n",
              "3208      CS4320         2647\n",
              "4640      CS5752         2612\n",
              "3548      CS4660         2527\n",
              "2687      CS3799         2513\n",
              "...          ...          ...\n",
              "2710      CS3822         2101\n",
              "3027      CS4139         2099\n",
              "1664      CS2776         2099\n",
              "1370      CS2482         2098\n",
              "3916      CS5028         2098\n",
              "\n",
              "[100 rows x 2 columns]"
            ]
          },
          "metadata": {
            "tags": []
          },
          "execution_count": 37
        }
      ]
    },
    {
      "cell_type": "markdown",
      "metadata": {
        "id": "8Xz3pjo4jlMG"
      },
      "source": [
        "#7.\tCon respecto al punto anterior y para el top 10, construir una tabla mostrando el total de gasto mensual que tuvo cada cliente identificando el mes en el que más gasto"
      ]
    },
    {
      "cell_type": "markdown",
      "metadata": {
        "id": "8_6C8TqDrcYg"
      },
      "source": [
        "Selecciono solo los 10 primeros clientes"
      ]
    },
    {
      "cell_type": "code",
      "metadata": {
        "id": "k7d1nJt3nuhf",
        "colab": {
          "base_uri": "https://localhost:8080/",
          "height": 347
        },
        "outputId": "088c72cd-3e3b-4d68-c974-210dde5b7ede"
      },
      "source": [
        "df_CDiez=df_Clientes.sort_values('Monto_Total',ascending=False).head(10)\n",
        "df_CDiez"
      ],
      "execution_count": 38,
      "outputs": [
        {
          "output_type": "execute_result",
          "data": {
            "text/html": [
              "<div>\n",
              "<style scoped>\n",
              "    .dataframe tbody tr th:only-of-type {\n",
              "        vertical-align: middle;\n",
              "    }\n",
              "\n",
              "    .dataframe tbody tr th {\n",
              "        vertical-align: top;\n",
              "    }\n",
              "\n",
              "    .dataframe thead th {\n",
              "        text-align: right;\n",
              "    }\n",
              "</style>\n",
              "<table border=\"1\" class=\"dataframe\">\n",
              "  <thead>\n",
              "    <tr style=\"text-align: right;\">\n",
              "      <th></th>\n",
              "      <th>customer_id</th>\n",
              "      <th>Monto_Total</th>\n",
              "    </tr>\n",
              "  </thead>\n",
              "  <tbody>\n",
              "    <tr>\n",
              "      <th>3312</th>\n",
              "      <td>CS4424</td>\n",
              "      <td>2933</td>\n",
              "    </tr>\n",
              "    <tr>\n",
              "      <th>3208</th>\n",
              "      <td>CS4320</td>\n",
              "      <td>2647</td>\n",
              "    </tr>\n",
              "    <tr>\n",
              "      <th>4640</th>\n",
              "      <td>CS5752</td>\n",
              "      <td>2612</td>\n",
              "    </tr>\n",
              "    <tr>\n",
              "      <th>3548</th>\n",
              "      <td>CS4660</td>\n",
              "      <td>2527</td>\n",
              "    </tr>\n",
              "    <tr>\n",
              "      <th>2687</th>\n",
              "      <td>CS3799</td>\n",
              "      <td>2513</td>\n",
              "    </tr>\n",
              "    <tr>\n",
              "      <th>3997</th>\n",
              "      <td>CS5109</td>\n",
              "      <td>2506</td>\n",
              "    </tr>\n",
              "    <tr>\n",
              "      <th>2962</th>\n",
              "      <td>CS4074</td>\n",
              "      <td>2462</td>\n",
              "    </tr>\n",
              "    <tr>\n",
              "      <th>2693</th>\n",
              "      <td>CS3805</td>\n",
              "      <td>2453</td>\n",
              "    </tr>\n",
              "    <tr>\n",
              "      <th>3496</th>\n",
              "      <td>CS4608</td>\n",
              "      <td>2449</td>\n",
              "    </tr>\n",
              "    <tr>\n",
              "      <th>4443</th>\n",
              "      <td>CS5555</td>\n",
              "      <td>2439</td>\n",
              "    </tr>\n",
              "  </tbody>\n",
              "</table>\n",
              "</div>"
            ],
            "text/plain": [
              "     customer_id  Monto_Total\n",
              "3312      CS4424         2933\n",
              "3208      CS4320         2647\n",
              "4640      CS5752         2612\n",
              "3548      CS4660         2527\n",
              "2687      CS3799         2513\n",
              "3997      CS5109         2506\n",
              "2962      CS4074         2462\n",
              "2693      CS3805         2453\n",
              "3496      CS4608         2449\n",
              "4443      CS5555         2439"
            ]
          },
          "metadata": {
            "tags": []
          },
          "execution_count": 38
        }
      ]
    },
    {
      "cell_type": "markdown",
      "metadata": {
        "id": "MPkQbGPsvxXF"
      },
      "source": [
        "Creo un dataframe con los valores agrupados que necesito"
      ]
    },
    {
      "cell_type": "code",
      "metadata": {
        "colab": {
          "base_uri": "https://localhost:8080/",
          "height": 406
        },
        "id": "ArSeQ6m0rmON",
        "outputId": "141cedf4-c3df-4b87-99d2-628143881cc7"
      },
      "source": [
        "df_Cs=df.groupby(['customer_id','month'])['tran_amount'].agg(Monto_Total=\"sum\").reset_index()\n",
        "df_Cs\n"
      ],
      "execution_count": 54,
      "outputs": [
        {
          "output_type": "execute_result",
          "data": {
            "text/html": [
              "<div>\n",
              "<style scoped>\n",
              "    .dataframe tbody tr th:only-of-type {\n",
              "        vertical-align: middle;\n",
              "    }\n",
              "\n",
              "    .dataframe tbody tr th {\n",
              "        vertical-align: top;\n",
              "    }\n",
              "\n",
              "    .dataframe thead th {\n",
              "        text-align: right;\n",
              "    }\n",
              "</style>\n",
              "<table border=\"1\" class=\"dataframe\">\n",
              "  <thead>\n",
              "    <tr style=\"text-align: right;\">\n",
              "      <th></th>\n",
              "      <th>customer_id</th>\n",
              "      <th>month</th>\n",
              "      <th>Monto_Total</th>\n",
              "    </tr>\n",
              "  </thead>\n",
              "  <tbody>\n",
              "    <tr>\n",
              "      <th>0</th>\n",
              "      <td>CS1112</td>\n",
              "      <td>1</td>\n",
              "      <td>39</td>\n",
              "    </tr>\n",
              "    <tr>\n",
              "      <th>1</th>\n",
              "      <td>CS1112</td>\n",
              "      <td>3</td>\n",
              "      <td>105</td>\n",
              "    </tr>\n",
              "    <tr>\n",
              "      <th>2</th>\n",
              "      <td>CS1112</td>\n",
              "      <td>4</td>\n",
              "      <td>119</td>\n",
              "    </tr>\n",
              "    <tr>\n",
              "      <th>3</th>\n",
              "      <td>CS1112</td>\n",
              "      <td>6</td>\n",
              "      <td>108</td>\n",
              "    </tr>\n",
              "    <tr>\n",
              "      <th>4</th>\n",
              "      <td>CS1112</td>\n",
              "      <td>7</td>\n",
              "      <td>207</td>\n",
              "    </tr>\n",
              "    <tr>\n",
              "      <th>...</th>\n",
              "      <td>...</td>\n",
              "      <td>...</td>\n",
              "      <td>...</td>\n",
              "    </tr>\n",
              "    <tr>\n",
              "      <th>63800</th>\n",
              "      <td>CS9000</td>\n",
              "      <td>7</td>\n",
              "      <td>102</td>\n",
              "    </tr>\n",
              "    <tr>\n",
              "      <th>63801</th>\n",
              "      <td>CS9000</td>\n",
              "      <td>8</td>\n",
              "      <td>35</td>\n",
              "    </tr>\n",
              "    <tr>\n",
              "      <th>63802</th>\n",
              "      <td>CS9000</td>\n",
              "      <td>9</td>\n",
              "      <td>16</td>\n",
              "    </tr>\n",
              "    <tr>\n",
              "      <th>63803</th>\n",
              "      <td>CS9000</td>\n",
              "      <td>10</td>\n",
              "      <td>94</td>\n",
              "    </tr>\n",
              "    <tr>\n",
              "      <th>63804</th>\n",
              "      <td>CS9000</td>\n",
              "      <td>12</td>\n",
              "      <td>49</td>\n",
              "    </tr>\n",
              "  </tbody>\n",
              "</table>\n",
              "<p>63805 rows × 3 columns</p>\n",
              "</div>"
            ],
            "text/plain": [
              "      customer_id  month  Monto_Total\n",
              "0          CS1112      1           39\n",
              "1          CS1112      3          105\n",
              "2          CS1112      4          119\n",
              "3          CS1112      6          108\n",
              "4          CS1112      7          207\n",
              "...           ...    ...          ...\n",
              "63800      CS9000      7          102\n",
              "63801      CS9000      8           35\n",
              "63802      CS9000      9           16\n",
              "63803      CS9000     10           94\n",
              "63804      CS9000     12           49\n",
              "\n",
              "[63805 rows x 3 columns]"
            ]
          },
          "metadata": {
            "tags": []
          },
          "execution_count": 54
        }
      ]
    },
    {
      "cell_type": "markdown",
      "metadata": {
        "id": "WxZHYrrD1-5d"
      },
      "source": [
        "Cruzo las dos tablas para obtener el monto de transacción por mes de los clientes del top 10"
      ]
    },
    {
      "cell_type": "code",
      "metadata": {
        "id": "3WcK6rFcv5Qf"
      },
      "source": [
        "df_Cs['check']=df_Cs.customer_id.isin(df_CDiez.customer_id)"
      ],
      "execution_count": 55,
      "outputs": []
    },
    {
      "cell_type": "code",
      "metadata": {
        "colab": {
          "base_uri": "https://localhost:8080/",
          "height": 406
        },
        "id": "HsYtEUJwxI4Y",
        "outputId": "705e2639-504b-45ea-c68d-be4a45e028b9"
      },
      "source": [
        "respuesta=df_Cs.loc[df_Cs.check==True]\n",
        "respuesta  #Respuesta es el dataframe con los valores cruzados"
      ],
      "execution_count": 58,
      "outputs": [
        {
          "output_type": "execute_result",
          "data": {
            "text/html": [
              "<div>\n",
              "<style scoped>\n",
              "    .dataframe tbody tr th:only-of-type {\n",
              "        vertical-align: middle;\n",
              "    }\n",
              "\n",
              "    .dataframe tbody tr th {\n",
              "        vertical-align: top;\n",
              "    }\n",
              "\n",
              "    .dataframe thead th {\n",
              "        text-align: right;\n",
              "    }\n",
              "</style>\n",
              "<table border=\"1\" class=\"dataframe\">\n",
              "  <thead>\n",
              "    <tr style=\"text-align: right;\">\n",
              "      <th></th>\n",
              "      <th>customer_id</th>\n",
              "      <th>month</th>\n",
              "      <th>Monto_Total</th>\n",
              "      <th>check</th>\n",
              "    </tr>\n",
              "  </thead>\n",
              "  <tbody>\n",
              "    <tr>\n",
              "      <th>26247</th>\n",
              "      <td>CS3799</td>\n",
              "      <td>1</td>\n",
              "      <td>292</td>\n",
              "      <td>True</td>\n",
              "    </tr>\n",
              "    <tr>\n",
              "      <th>26248</th>\n",
              "      <td>CS3799</td>\n",
              "      <td>2</td>\n",
              "      <td>168</td>\n",
              "      <td>True</td>\n",
              "    </tr>\n",
              "    <tr>\n",
              "      <th>26249</th>\n",
              "      <td>CS3799</td>\n",
              "      <td>3</td>\n",
              "      <td>194</td>\n",
              "      <td>True</td>\n",
              "    </tr>\n",
              "    <tr>\n",
              "      <th>26250</th>\n",
              "      <td>CS3799</td>\n",
              "      <td>4</td>\n",
              "      <td>227</td>\n",
              "      <td>True</td>\n",
              "    </tr>\n",
              "    <tr>\n",
              "      <th>26251</th>\n",
              "      <td>CS3799</td>\n",
              "      <td>5</td>\n",
              "      <td>164</td>\n",
              "      <td>True</td>\n",
              "    </tr>\n",
              "    <tr>\n",
              "      <th>...</th>\n",
              "      <td>...</td>\n",
              "      <td>...</td>\n",
              "      <td>...</td>\n",
              "      <td>...</td>\n",
              "    </tr>\n",
              "    <tr>\n",
              "      <th>45155</th>\n",
              "      <td>CS5752</td>\n",
              "      <td>8</td>\n",
              "      <td>333</td>\n",
              "      <td>True</td>\n",
              "    </tr>\n",
              "    <tr>\n",
              "      <th>45156</th>\n",
              "      <td>CS5752</td>\n",
              "      <td>9</td>\n",
              "      <td>52</td>\n",
              "      <td>True</td>\n",
              "    </tr>\n",
              "    <tr>\n",
              "      <th>45157</th>\n",
              "      <td>CS5752</td>\n",
              "      <td>10</td>\n",
              "      <td>301</td>\n",
              "      <td>True</td>\n",
              "    </tr>\n",
              "    <tr>\n",
              "      <th>45158</th>\n",
              "      <td>CS5752</td>\n",
              "      <td>11</td>\n",
              "      <td>224</td>\n",
              "      <td>True</td>\n",
              "    </tr>\n",
              "    <tr>\n",
              "      <th>45159</th>\n",
              "      <td>CS5752</td>\n",
              "      <td>12</td>\n",
              "      <td>635</td>\n",
              "      <td>True</td>\n",
              "    </tr>\n",
              "  </tbody>\n",
              "</table>\n",
              "<p>114 rows × 4 columns</p>\n",
              "</div>"
            ],
            "text/plain": [
              "      customer_id  month  Monto_Total  check\n",
              "26247      CS3799      1          292   True\n",
              "26248      CS3799      2          168   True\n",
              "26249      CS3799      3          194   True\n",
              "26250      CS3799      4          227   True\n",
              "26251      CS3799      5          164   True\n",
              "...           ...    ...          ...    ...\n",
              "45155      CS5752      8          333   True\n",
              "45156      CS5752      9           52   True\n",
              "45157      CS5752     10          301   True\n",
              "45158      CS5752     11          224   True\n",
              "45159      CS5752     12          635   True\n",
              "\n",
              "[114 rows x 4 columns]"
            ]
          },
          "metadata": {
            "tags": []
          },
          "execution_count": 58
        }
      ]
    },
    {
      "cell_type": "markdown",
      "metadata": {
        "id": "cmVSInRP2fL5"
      },
      "source": [
        "Ahora si mostramos solo los montos en el mes que más gasto cada cliente del top diez:"
      ]
    },
    {
      "cell_type": "code",
      "metadata": {
        "colab": {
          "base_uri": "https://localhost:8080/",
          "height": 347
        },
        "id": "K3gFgyJ0yd7F",
        "outputId": "a02fce6d-834f-4bfd-ccec-b4c2377645da"
      },
      "source": [
        "df_Cs_G=respuesta.groupby('customer_id')['Monto_Total'].max()\n",
        "pd.merge(df_Cs_G,df_Cs,on=['customer_id','Monto_Total'] ,how='left')"
      ],
      "execution_count": 63,
      "outputs": [
        {
          "output_type": "execute_result",
          "data": {
            "text/html": [
              "<div>\n",
              "<style scoped>\n",
              "    .dataframe tbody tr th:only-of-type {\n",
              "        vertical-align: middle;\n",
              "    }\n",
              "\n",
              "    .dataframe tbody tr th {\n",
              "        vertical-align: top;\n",
              "    }\n",
              "\n",
              "    .dataframe thead th {\n",
              "        text-align: right;\n",
              "    }\n",
              "</style>\n",
              "<table border=\"1\" class=\"dataframe\">\n",
              "  <thead>\n",
              "    <tr style=\"text-align: right;\">\n",
              "      <th></th>\n",
              "      <th>customer_id</th>\n",
              "      <th>Monto_Total</th>\n",
              "      <th>month</th>\n",
              "      <th>check</th>\n",
              "    </tr>\n",
              "  </thead>\n",
              "  <tbody>\n",
              "    <tr>\n",
              "      <th>0</th>\n",
              "      <td>CS3799</td>\n",
              "      <td>410</td>\n",
              "      <td>6</td>\n",
              "      <td>True</td>\n",
              "    </tr>\n",
              "    <tr>\n",
              "      <th>1</th>\n",
              "      <td>CS3805</td>\n",
              "      <td>384</td>\n",
              "      <td>5</td>\n",
              "      <td>True</td>\n",
              "    </tr>\n",
              "    <tr>\n",
              "      <th>2</th>\n",
              "      <td>CS4074</td>\n",
              "      <td>394</td>\n",
              "      <td>8</td>\n",
              "      <td>True</td>\n",
              "    </tr>\n",
              "    <tr>\n",
              "      <th>3</th>\n",
              "      <td>CS4320</td>\n",
              "      <td>386</td>\n",
              "      <td>3</td>\n",
              "      <td>True</td>\n",
              "    </tr>\n",
              "    <tr>\n",
              "      <th>4</th>\n",
              "      <td>CS4424</td>\n",
              "      <td>463</td>\n",
              "      <td>12</td>\n",
              "      <td>True</td>\n",
              "    </tr>\n",
              "    <tr>\n",
              "      <th>5</th>\n",
              "      <td>CS4608</td>\n",
              "      <td>418</td>\n",
              "      <td>6</td>\n",
              "      <td>True</td>\n",
              "    </tr>\n",
              "    <tr>\n",
              "      <th>6</th>\n",
              "      <td>CS4660</td>\n",
              "      <td>423</td>\n",
              "      <td>11</td>\n",
              "      <td>True</td>\n",
              "    </tr>\n",
              "    <tr>\n",
              "      <th>7</th>\n",
              "      <td>CS5109</td>\n",
              "      <td>486</td>\n",
              "      <td>1</td>\n",
              "      <td>True</td>\n",
              "    </tr>\n",
              "    <tr>\n",
              "      <th>8</th>\n",
              "      <td>CS5555</td>\n",
              "      <td>407</td>\n",
              "      <td>11</td>\n",
              "      <td>True</td>\n",
              "    </tr>\n",
              "    <tr>\n",
              "      <th>9</th>\n",
              "      <td>CS5752</td>\n",
              "      <td>635</td>\n",
              "      <td>12</td>\n",
              "      <td>True</td>\n",
              "    </tr>\n",
              "  </tbody>\n",
              "</table>\n",
              "</div>"
            ],
            "text/plain": [
              "  customer_id  Monto_Total  month  check\n",
              "0      CS3799          410      6   True\n",
              "1      CS3805          384      5   True\n",
              "2      CS4074          394      8   True\n",
              "3      CS4320          386      3   True\n",
              "4      CS4424          463     12   True\n",
              "5      CS4608          418      6   True\n",
              "6      CS4660          423     11   True\n",
              "7      CS5109          486      1   True\n",
              "8      CS5555          407     11   True\n",
              "9      CS5752          635     12   True"
            ]
          },
          "metadata": {
            "tags": []
          },
          "execution_count": 63
        }
      ]
    },
    {
      "cell_type": "markdown",
      "metadata": {
        "id": "oUcz3C-0ntA6"
      },
      "source": [
        "#8.\tConstruir una función que segmente en 3 grupos a los clientes dependiendo del monto que haya gastado. Por ejemplo, si gastó menos de 250 estaría en el grupo 1. "
      ]
    },
    {
      "cell_type": "markdown",
      "metadata": {
        "id": "IfCFsDHA_74i"
      },
      "source": [
        "Solución 1 - pregunta 8\n",
        "\n",
        "Segmentación por seleccion de gasto manual\n"
      ]
    },
    {
      "cell_type": "code",
      "metadata": {
        "colab": {
          "base_uri": "https://localhost:8080/",
          "height": 406
        },
        "id": "KQxrugBAAm5Z",
        "outputId": "de51b613-00e2-433e-c4ca-d88109697c20"
      },
      "source": [
        "#Creo un dataframe temporal agrupando por cliente para sumar el monto de transacción\n",
        "df_Clientes=df.groupby('customer_id')['tran_amount'].agg(Monto_Total=\"sum\").reset_index()\n",
        "df_Clientes['Grupo']=\"C\"\n",
        "df_Clientes"
      ],
      "execution_count": null,
      "outputs": [
        {
          "output_type": "execute_result",
          "data": {
            "text/html": [
              "<div>\n",
              "<style scoped>\n",
              "    .dataframe tbody tr th:only-of-type {\n",
              "        vertical-align: middle;\n",
              "    }\n",
              "\n",
              "    .dataframe tbody tr th {\n",
              "        vertical-align: top;\n",
              "    }\n",
              "\n",
              "    .dataframe thead th {\n",
              "        text-align: right;\n",
              "    }\n",
              "</style>\n",
              "<table border=\"1\" class=\"dataframe\">\n",
              "  <thead>\n",
              "    <tr style=\"text-align: right;\">\n",
              "      <th></th>\n",
              "      <th>customer_id</th>\n",
              "      <th>Monto_Total</th>\n",
              "      <th>Grupo</th>\n",
              "    </tr>\n",
              "  </thead>\n",
              "  <tbody>\n",
              "    <tr>\n",
              "      <th>0</th>\n",
              "      <td>CS1112</td>\n",
              "      <td>1012</td>\n",
              "      <td>C</td>\n",
              "    </tr>\n",
              "    <tr>\n",
              "      <th>1</th>\n",
              "      <td>CS1113</td>\n",
              "      <td>1490</td>\n",
              "      <td>C</td>\n",
              "    </tr>\n",
              "    <tr>\n",
              "      <th>2</th>\n",
              "      <td>CS1114</td>\n",
              "      <td>1432</td>\n",
              "      <td>C</td>\n",
              "    </tr>\n",
              "    <tr>\n",
              "      <th>3</th>\n",
              "      <td>CS1115</td>\n",
              "      <td>1659</td>\n",
              "      <td>C</td>\n",
              "    </tr>\n",
              "    <tr>\n",
              "      <th>4</th>\n",
              "      <td>CS1116</td>\n",
              "      <td>857</td>\n",
              "      <td>C</td>\n",
              "    </tr>\n",
              "    <tr>\n",
              "      <th>...</th>\n",
              "      <td>...</td>\n",
              "      <td>...</td>\n",
              "      <td>...</td>\n",
              "    </tr>\n",
              "    <tr>\n",
              "      <th>6884</th>\n",
              "      <td>CS8996</td>\n",
              "      <td>582</td>\n",
              "      <td>C</td>\n",
              "    </tr>\n",
              "    <tr>\n",
              "      <th>6885</th>\n",
              "      <td>CS8997</td>\n",
              "      <td>543</td>\n",
              "      <td>C</td>\n",
              "    </tr>\n",
              "    <tr>\n",
              "      <th>6886</th>\n",
              "      <td>CS8998</td>\n",
              "      <td>624</td>\n",
              "      <td>C</td>\n",
              "    </tr>\n",
              "    <tr>\n",
              "      <th>6887</th>\n",
              "      <td>CS8999</td>\n",
              "      <td>383</td>\n",
              "      <td>C</td>\n",
              "    </tr>\n",
              "    <tr>\n",
              "      <th>6888</th>\n",
              "      <td>CS9000</td>\n",
              "      <td>533</td>\n",
              "      <td>C</td>\n",
              "    </tr>\n",
              "  </tbody>\n",
              "</table>\n",
              "<p>6889 rows × 3 columns</p>\n",
              "</div>"
            ],
            "text/plain": [
              "     customer_id  Monto_Total Grupo\n",
              "0         CS1112         1012     C\n",
              "1         CS1113         1490     C\n",
              "2         CS1114         1432     C\n",
              "3         CS1115         1659     C\n",
              "4         CS1116          857     C\n",
              "...          ...          ...   ...\n",
              "6884      CS8996          582     C\n",
              "6885      CS8997          543     C\n",
              "6886      CS8998          624     C\n",
              "6887      CS8999          383     C\n",
              "6888      CS9000          533     C\n",
              "\n",
              "[6889 rows x 3 columns]"
            ]
          },
          "metadata": {
            "tags": []
          },
          "execution_count": 100
        }
      ]
    },
    {
      "cell_type": "markdown",
      "metadata": {
        "id": "1-4ed5ttJjI4"
      },
      "source": [
        "Con un for iterativo asignare la letra del grupo la decisión de la segmentación para crear los grupos primero revise el 80-20 (Se utiliza para el diagrama Pareto) de los clientes, así tome la decisión de crear el \"Grupo A\" para los clientes que han hecho el 50% del monto en transacciones, \n",
        "el \"Grupo B\" es para los clientes que han hecho del 50% al 80% del monto de las transacciones y el resto son el \"Grupo C\""
      ]
    },
    {
      "cell_type": "code",
      "metadata": {
        "colab": {
          "base_uri": "https://localhost:8080/"
        },
        "id": "4HEiKuaIDrOH",
        "outputId": "2870f89d-c79d-482d-fd7d-9905e9521de2"
      },
      "source": [
        "\n",
        "i=0\n",
        "for i in range(len(df_Clientes.customer_id)):\n",
        "    if df_Clientes.Monto_Total[i] >= 1404:\n",
        "      df_Clientes.Grupo[i]=\"A\"\n",
        "      if df_Clientes.Monto_Total[i] >= 1037:\n",
        "        df_Clientes.Grupo[i]=\"B\"\n",
        "    i=i+1"
      ],
      "execution_count": null,
      "outputs": [
        {
          "output_type": "stream",
          "text": [
            "/usr/local/lib/python3.7/dist-packages/ipykernel_launcher.py:4: SettingWithCopyWarning: \n",
            "A value is trying to be set on a copy of a slice from a DataFrame\n",
            "\n",
            "See the caveats in the documentation: https://pandas.pydata.org/pandas-docs/stable/user_guide/indexing.html#returning-a-view-versus-a-copy\n",
            "  after removing the cwd from sys.path.\n",
            "/usr/local/lib/python3.7/dist-packages/ipykernel_launcher.py:6: SettingWithCopyWarning: \n",
            "A value is trying to be set on a copy of a slice from a DataFrame\n",
            "\n",
            "See the caveats in the documentation: https://pandas.pydata.org/pandas-docs/stable/user_guide/indexing.html#returning-a-view-versus-a-copy\n",
            "  \n"
          ],
          "name": "stderr"
        }
      ]
    },
    {
      "cell_type": "code",
      "metadata": {
        "colab": {
          "base_uri": "https://localhost:8080/",
          "height": 406
        },
        "id": "8ukJ9KLjISDu",
        "outputId": "29c8d33c-5369-44ce-85a0-01e344a4c690"
      },
      "source": [
        "df_Clientes"
      ],
      "execution_count": null,
      "outputs": [
        {
          "output_type": "execute_result",
          "data": {
            "text/html": [
              "<div>\n",
              "<style scoped>\n",
              "    .dataframe tbody tr th:only-of-type {\n",
              "        vertical-align: middle;\n",
              "    }\n",
              "\n",
              "    .dataframe tbody tr th {\n",
              "        vertical-align: top;\n",
              "    }\n",
              "\n",
              "    .dataframe thead th {\n",
              "        text-align: right;\n",
              "    }\n",
              "</style>\n",
              "<table border=\"1\" class=\"dataframe\">\n",
              "  <thead>\n",
              "    <tr style=\"text-align: right;\">\n",
              "      <th></th>\n",
              "      <th>customer_id</th>\n",
              "      <th>Monto_Total</th>\n",
              "      <th>Grupo</th>\n",
              "    </tr>\n",
              "  </thead>\n",
              "  <tbody>\n",
              "    <tr>\n",
              "      <th>0</th>\n",
              "      <td>CS1112</td>\n",
              "      <td>1012</td>\n",
              "      <td>C</td>\n",
              "    </tr>\n",
              "    <tr>\n",
              "      <th>1</th>\n",
              "      <td>CS1113</td>\n",
              "      <td>1490</td>\n",
              "      <td>A</td>\n",
              "    </tr>\n",
              "    <tr>\n",
              "      <th>2</th>\n",
              "      <td>CS1114</td>\n",
              "      <td>1432</td>\n",
              "      <td>B</td>\n",
              "    </tr>\n",
              "    <tr>\n",
              "      <th>3</th>\n",
              "      <td>CS1115</td>\n",
              "      <td>1659</td>\n",
              "      <td>B</td>\n",
              "    </tr>\n",
              "    <tr>\n",
              "      <th>4</th>\n",
              "      <td>CS1116</td>\n",
              "      <td>857</td>\n",
              "      <td>C</td>\n",
              "    </tr>\n",
              "    <tr>\n",
              "      <th>...</th>\n",
              "      <td>...</td>\n",
              "      <td>...</td>\n",
              "      <td>...</td>\n",
              "    </tr>\n",
              "    <tr>\n",
              "      <th>6884</th>\n",
              "      <td>CS8996</td>\n",
              "      <td>582</td>\n",
              "      <td>C</td>\n",
              "    </tr>\n",
              "    <tr>\n",
              "      <th>6885</th>\n",
              "      <td>CS8997</td>\n",
              "      <td>543</td>\n",
              "      <td>C</td>\n",
              "    </tr>\n",
              "    <tr>\n",
              "      <th>6886</th>\n",
              "      <td>CS8998</td>\n",
              "      <td>624</td>\n",
              "      <td>C</td>\n",
              "    </tr>\n",
              "    <tr>\n",
              "      <th>6887</th>\n",
              "      <td>CS8999</td>\n",
              "      <td>383</td>\n",
              "      <td>C</td>\n",
              "    </tr>\n",
              "    <tr>\n",
              "      <th>6888</th>\n",
              "      <td>CS9000</td>\n",
              "      <td>533</td>\n",
              "      <td>C</td>\n",
              "    </tr>\n",
              "  </tbody>\n",
              "</table>\n",
              "<p>6889 rows × 3 columns</p>\n",
              "</div>"
            ],
            "text/plain": [
              "     customer_id  Monto_Total Grupo\n",
              "0         CS1112         1012     C\n",
              "1         CS1113         1490     A\n",
              "2         CS1114         1432     B\n",
              "3         CS1115         1659     B\n",
              "4         CS1116          857     C\n",
              "...          ...          ...   ...\n",
              "6884      CS8996          582     C\n",
              "6885      CS8997          543     C\n",
              "6886      CS8998          624     C\n",
              "6887      CS8999          383     C\n",
              "6888      CS9000          533     C\n",
              "\n",
              "[6889 rows x 3 columns]"
            ]
          },
          "metadata": {
            "tags": []
          },
          "execution_count": 106
        }
      ]
    },
    {
      "cell_type": "markdown",
      "metadata": {
        "id": "oA4sDBvO_zTd"
      },
      "source": [
        "Solución 2 - pregunta 8\n",
        "\n",
        "Clusters por K-means\n"
      ]
    },
    {
      "cell_type": "code",
      "metadata": {
        "id": "K_J3SnLTsNtj"
      },
      "source": [
        "import numpy as np\n",
        "import matplotlib.pyplot as plt\n",
        "from sklearn.decomposition import PCA\n",
        "import seaborn as sns"
      ],
      "execution_count": 64,
      "outputs": []
    },
    {
      "cell_type": "markdown",
      "metadata": {
        "id": "FdhGLnSc2yD9"
      },
      "source": [
        "Creamos una variable que nos indique numericamente los más recientes"
      ]
    },
    {
      "cell_type": "code",
      "metadata": {
        "colab": {
          "base_uri": "https://localhost:8080/",
          "height": 204
        },
        "id": "SBldW1tY1Vjb",
        "outputId": "412e4526-3451-4ecd-8cda-9f2d3fa03d49"
      },
      "source": [
        "\n",
        "import datetime as dt\n",
        "now = dt.datetime(2015,3,17)\n",
        "df['hist']=now - df['trans_date']\n",
        "df['hist'].astype('timedelta64[D]')\n",
        "df['hist']=df['hist'] / np.timedelta64(1, 'D')\n",
        "df.head()"
      ],
      "execution_count": 65,
      "outputs": [
        {
          "output_type": "execute_result",
          "data": {
            "text/html": [
              "<div>\n",
              "<style scoped>\n",
              "    .dataframe tbody tr th:only-of-type {\n",
              "        vertical-align: middle;\n",
              "    }\n",
              "\n",
              "    .dataframe tbody tr th {\n",
              "        vertical-align: top;\n",
              "    }\n",
              "\n",
              "    .dataframe thead th {\n",
              "        text-align: right;\n",
              "    }\n",
              "</style>\n",
              "<table border=\"1\" class=\"dataframe\">\n",
              "  <thead>\n",
              "    <tr style=\"text-align: right;\">\n",
              "      <th></th>\n",
              "      <th>customer_id</th>\n",
              "      <th>trans_date</th>\n",
              "      <th>tran_amount</th>\n",
              "      <th>year</th>\n",
              "      <th>month</th>\n",
              "      <th>hist</th>\n",
              "    </tr>\n",
              "  </thead>\n",
              "  <tbody>\n",
              "    <tr>\n",
              "      <th>0</th>\n",
              "      <td>CS5295</td>\n",
              "      <td>2013-02-11</td>\n",
              "      <td>35</td>\n",
              "      <td>2013</td>\n",
              "      <td>2</td>\n",
              "      <td>764.0</td>\n",
              "    </tr>\n",
              "    <tr>\n",
              "      <th>1</th>\n",
              "      <td>CS4768</td>\n",
              "      <td>2015-03-15</td>\n",
              "      <td>39</td>\n",
              "      <td>2015</td>\n",
              "      <td>3</td>\n",
              "      <td>2.0</td>\n",
              "    </tr>\n",
              "    <tr>\n",
              "      <th>2</th>\n",
              "      <td>CS2122</td>\n",
              "      <td>2013-02-26</td>\n",
              "      <td>52</td>\n",
              "      <td>2013</td>\n",
              "      <td>2</td>\n",
              "      <td>749.0</td>\n",
              "    </tr>\n",
              "    <tr>\n",
              "      <th>3</th>\n",
              "      <td>CS1217</td>\n",
              "      <td>2011-11-16</td>\n",
              "      <td>99</td>\n",
              "      <td>2011</td>\n",
              "      <td>11</td>\n",
              "      <td>1217.0</td>\n",
              "    </tr>\n",
              "    <tr>\n",
              "      <th>4</th>\n",
              "      <td>CS1850</td>\n",
              "      <td>2013-11-20</td>\n",
              "      <td>78</td>\n",
              "      <td>2013</td>\n",
              "      <td>11</td>\n",
              "      <td>482.0</td>\n",
              "    </tr>\n",
              "  </tbody>\n",
              "</table>\n",
              "</div>"
            ],
            "text/plain": [
              "  customer_id trans_date  tran_amount  year  month    hist\n",
              "0      CS5295 2013-02-11           35  2013      2   764.0\n",
              "1      CS4768 2015-03-15           39  2015      3     2.0\n",
              "2      CS2122 2013-02-26           52  2013      2   749.0\n",
              "3      CS1217 2011-11-16           99  2011     11  1217.0\n",
              "4      CS1850 2013-11-20           78  2013     11   482.0"
            ]
          },
          "metadata": {
            "tags": []
          },
          "execution_count": 65
        }
      ]
    },
    {
      "cell_type": "markdown",
      "metadata": {
        "id": "a4o-FNLL26Na"
      },
      "source": [
        "Creamos un dataframe temporal con las caracteristicas que utilizaremos"
      ]
    },
    {
      "cell_type": "code",
      "metadata": {
        "id": "PHQdh4L_sK36"
      },
      "source": [
        "rfm_table = df.groupby('customer_id').agg({'hist': lambda x:x.min(),# Recency\n",
        "                                        'customer_id': lambda x: len(x),# Frequency\n",
        "                                        'tran_amount': lambda x: x.sum()})# Monetary Value"
      ],
      "execution_count": 66,
      "outputs": []
    },
    {
      "cell_type": "markdown",
      "metadata": {
        "id": "nyssOAGg2_oj"
      },
      "source": [
        "Cambiamos el nombre a las variables para indentificarlas más fácil"
      ]
    },
    {
      "cell_type": "code",
      "metadata": {
        "id": "uj5EEd1Js9Rj"
      },
      "source": [
        "\n",
        "rfm_table.rename(columns={'hist': 'recency',\n",
        "                         'customer_id': 'frequency', \n",
        "                         'tran_amount': 'monetary'}, inplace=True)"
      ],
      "execution_count": 67,
      "outputs": []
    },
    {
      "cell_type": "code",
      "metadata": {
        "colab": {
          "base_uri": "https://localhost:8080/",
          "height": 233
        },
        "id": "ZHtOfjpstJ2u",
        "outputId": "6a59c1a8-1c55-4691-a62c-7893bb821769"
      },
      "source": [
        "rfm_table.head()"
      ],
      "execution_count": null,
      "outputs": [
        {
          "output_type": "execute_result",
          "data": {
            "text/html": [
              "<div>\n",
              "<style scoped>\n",
              "    .dataframe tbody tr th:only-of-type {\n",
              "        vertical-align: middle;\n",
              "    }\n",
              "\n",
              "    .dataframe tbody tr th {\n",
              "        vertical-align: top;\n",
              "    }\n",
              "\n",
              "    .dataframe thead th {\n",
              "        text-align: right;\n",
              "    }\n",
              "</style>\n",
              "<table border=\"1\" class=\"dataframe\">\n",
              "  <thead>\n",
              "    <tr style=\"text-align: right;\">\n",
              "      <th></th>\n",
              "      <th>recency</th>\n",
              "      <th>frequency</th>\n",
              "      <th>monetary</th>\n",
              "    </tr>\n",
              "    <tr>\n",
              "      <th>customer_id</th>\n",
              "      <th></th>\n",
              "      <th></th>\n",
              "      <th></th>\n",
              "    </tr>\n",
              "  </thead>\n",
              "  <tbody>\n",
              "    <tr>\n",
              "      <th>CS1112</th>\n",
              "      <td>62.0</td>\n",
              "      <td>15</td>\n",
              "      <td>1012</td>\n",
              "    </tr>\n",
              "    <tr>\n",
              "      <th>CS1113</th>\n",
              "      <td>36.0</td>\n",
              "      <td>20</td>\n",
              "      <td>1490</td>\n",
              "    </tr>\n",
              "    <tr>\n",
              "      <th>CS1114</th>\n",
              "      <td>33.0</td>\n",
              "      <td>19</td>\n",
              "      <td>1432</td>\n",
              "    </tr>\n",
              "    <tr>\n",
              "      <th>CS1115</th>\n",
              "      <td>12.0</td>\n",
              "      <td>22</td>\n",
              "      <td>1659</td>\n",
              "    </tr>\n",
              "    <tr>\n",
              "      <th>CS1116</th>\n",
              "      <td>204.0</td>\n",
              "      <td>13</td>\n",
              "      <td>857</td>\n",
              "    </tr>\n",
              "  </tbody>\n",
              "</table>\n",
              "</div>"
            ],
            "text/plain": [
              "             recency  frequency  monetary\n",
              "customer_id                              \n",
              "CS1112          62.0         15      1012\n",
              "CS1113          36.0         20      1490\n",
              "CS1114          33.0         19      1432\n",
              "CS1115          12.0         22      1659\n",
              "CS1116         204.0         13       857"
            ]
          },
          "metadata": {
            "tags": []
          },
          "execution_count": 114
        }
      ]
    },
    {
      "cell_type": "code",
      "metadata": {
        "id": "zIQmmfY8ufx6"
      },
      "source": [
        "#copiamos los datos a otro dataframe\n",
        "rfm_segmentation = rfm_table.copy()"
      ],
      "execution_count": 68,
      "outputs": []
    },
    {
      "cell_type": "code",
      "metadata": {
        "id": "WTgj3RN0uiys"
      },
      "source": [
        "feats = ['recency','frequency','monetary']\n",
        "X = rfm_segmentation[feats].values"
      ],
      "execution_count": 69,
      "outputs": []
    },
    {
      "cell_type": "markdown",
      "metadata": {
        "id": "0m8gVFtj3SDx"
      },
      "source": [
        "#K-Means Internal Evaluation: Elbow Method\n",
        "\n",
        "La siguiente grafica ayuda aidentificar los clusters, en este caso serán tres"
      ]
    },
    {
      "cell_type": "code",
      "metadata": {
        "colab": {
          "base_uri": "https://localhost:8080/",
          "height": 402
        },
        "id": "4H6kOwpq6lWi",
        "outputId": "49d02130-3839-43bd-8d13-413208b2154f"
      },
      "source": [
        "from sklearn.cluster import KMeans\n",
        "inertia = []\n",
        "\n",
        "for i in range(1, 11):\n",
        "  kmeans = KMeans(n_clusters=i, init='k-means++', max_iter=300, n_init=10, random_state=0)\n",
        "  kmeans.fit(rfm_table.values)\n",
        "  inertia.append(kmeans.inertia_)\n",
        "\n",
        "plt.figure(figsize=(12, 6))\n",
        "plt.plot(inertia)"
      ],
      "execution_count": 70,
      "outputs": [
        {
          "output_type": "execute_result",
          "data": {
            "text/plain": [
              "[<matplotlib.lines.Line2D at 0x7f6f650e4610>]"
            ]
          },
          "metadata": {
            "tags": []
          },
          "execution_count": 70
        },
        {
          "output_type": "display_data",
          "data": {
            "image/png": "[encoded data removed]",
            "text/plain": [
              "<Figure size 864x432 with 1 Axes>"
            ]
          },
          "metadata": {
            "tags": [],
            "needs_background": "light"
          }
        }
      ]
    },
    {
      "cell_type": "markdown",
      "metadata": {
        "id": "ZwyqRc6q32u8"
      },
      "source": [
        "Ejecutamos la función Kmeans ya programa en python para obtener los clusters"
      ]
    },
    {
      "cell_type": "code",
      "metadata": {
        "colab": {
          "base_uri": "https://localhost:8080/"
        },
        "id": "U4GHIO4C60rI",
        "outputId": "a1de8c77-05e6-4ece-85d4-d43aa1bb3d18"
      },
      "source": [
        "from sklearn.cluster import KMeans\n",
        "kmeans = KMeans(n_clusters=3, init='k-means++', max_iter=300, n_init=10, random_state=0)\n",
        "kmeans.fit(rfm_table.values)"
      ],
      "execution_count": 71,
      "outputs": [
        {
          "output_type": "execute_result",
          "data": {
            "text/plain": [
              "KMeans(algorithm='auto', copy_x=True, init='k-means++', max_iter=300,\n",
              "       n_clusters=3, n_init=10, n_jobs=None, precompute_distances='auto',\n",
              "       random_state=0, tol=0.0001, verbose=0)"
            ]
          },
          "metadata": {
            "tags": []
          },
          "execution_count": 71
        }
      ]
    },
    {
      "cell_type": "markdown",
      "metadata": {
        "id": "ZGjzSaLQ3rQ0"
      },
      "source": [
        "Creamos una variable con el valor del centro de los clusters"
      ]
    },
    {
      "cell_type": "code",
      "metadata": {
        "id": "kQv2TqMQ69Qq"
      },
      "source": [
        "rfm_table['cluster'] = kmeans.labels_"
      ],
      "execution_count": 73,
      "outputs": []
    },
    {
      "cell_type": "code",
      "metadata": {
        "colab": {
          "base_uri": "https://localhost:8080/",
          "height": 295
        },
        "id": "8LnbiqCq7FaM",
        "outputId": "f034917d-0660-4dae-8108-040588de4049"
      },
      "source": [
        "sns.scatterplot(data=rfm_table, x='monetary', y='recency', size='frequency', \n",
        "                hue='cluster')"
      ],
      "execution_count": 74,
      "outputs": [
        {
          "output_type": "execute_result",
          "data": {
            "text/plain": [
              "<matplotlib.axes._subplots.AxesSubplot at 0x7f6f65033b90>"
            ]
          },
          "metadata": {
            "tags": []
          },
          "execution_count": 74
        },
        {
          "output_type": "display_data",
          "data": {
            "image/png": "[encoded data removed]",
            "text/plain": [
              "<Figure size 432x288 with 1 Axes>"
            ]
          },
          "metadata": {
            "tags": [],
            "needs_background": "light"
          }
        }
      ]
    },
    {
      "cell_type": "markdown",
      "metadata": {
        "id": "ZMFga_P0PXe2"
      },
      "source": [
        "En esta solución a pesar de elegir más variablesla más notoria es el monto de la transacción. La separaciones son similares a la solución 1 "
      ]
    },
    {
      "cell_type": "code",
      "metadata": {
        "colab": {
          "base_uri": "https://localhost:8080/"
        },
        "id": "RVITK5gW_4wW",
        "outputId": "1b2dd550-56e5-4625-b882-42910d8541ba"
      },
      "source": [
        "rfm_table.cluster"
      ],
      "execution_count": 75,
      "outputs": [
        {
          "output_type": "execute_result",
          "data": {
            "text/plain": [
              "customer_id\n",
              "CS1112    0\n",
              "CS1113    1\n",
              "CS1114    0\n",
              "CS1115    1\n",
              "CS1116    2\n",
              "         ..\n",
              "CS8996    2\n",
              "CS8997    2\n",
              "CS8998    2\n",
              "CS8999    2\n",
              "CS9000    2\n",
              "Name: cluster, Length: 6889, dtype: int32"
            ]
          },
          "metadata": {
            "tags": []
          },
          "execution_count": 75
        }
      ]
    },
    {
      "cell_type": "markdown",
      "metadata": {
        "id": "cCow4Wv8LMGL"
      },
      "source": [
        "#9.\tObtener monto promedio de transacción para cada uno de los grupos. "
      ]
    },
    {
      "cell_type": "markdown",
      "metadata": {
        "id": "Hzp5sfd4LOI9"
      },
      "source": [
        "El monto promedio para la solución 1"
      ]
    },
    {
      "cell_type": "code",
      "metadata": {
        "colab": {
          "base_uri": "https://localhost:8080/",
          "height": 172
        },
        "id": "RQP-l3-8LZg3",
        "outputId": "6cda9d68-e455-45e1-93a8-8fc5d890c9ef"
      },
      "source": [
        "df_Clientes.groupby('Grupo')['Monto_Total'].agg(Monto_promedio=\"mean\")"
      ],
      "execution_count": null,
      "outputs": [
        {
          "output_type": "execute_result",
          "data": {
            "text/html": [
              "<div>\n",
              "<style scoped>\n",
              "    .dataframe tbody tr th:only-of-type {\n",
              "        vertical-align: middle;\n",
              "    }\n",
              "\n",
              "    .dataframe tbody tr th {\n",
              "        vertical-align: top;\n",
              "    }\n",
              "\n",
              "    .dataframe thead th {\n",
              "        text-align: right;\n",
              "    }\n",
              "</style>\n",
              "<table border=\"1\" class=\"dataframe\">\n",
              "  <thead>\n",
              "    <tr style=\"text-align: right;\">\n",
              "      <th></th>\n",
              "      <th>Monto_promedio</th>\n",
              "    </tr>\n",
              "    <tr>\n",
              "      <th>Grupo</th>\n",
              "      <th></th>\n",
              "    </tr>\n",
              "  </thead>\n",
              "  <tbody>\n",
              "    <tr>\n",
              "      <th>A</th>\n",
              "      <td>1490.000000</td>\n",
              "    </tr>\n",
              "    <tr>\n",
              "      <th>B</th>\n",
              "      <td>1672.428334</td>\n",
              "    </tr>\n",
              "    <tr>\n",
              "      <th>C</th>\n",
              "      <td>914.296809</td>\n",
              "    </tr>\n",
              "  </tbody>\n",
              "</table>\n",
              "</div>"
            ],
            "text/plain": [
              "       Monto_promedio\n",
              "Grupo                \n",
              "A         1490.000000\n",
              "B         1672.428334\n",
              "C          914.296809"
            ]
          },
          "metadata": {
            "tags": []
          },
          "execution_count": 109
        }
      ]
    },
    {
      "cell_type": "markdown",
      "metadata": {
        "id": "m-JjyAjyOITH"
      },
      "source": [
        "El monto promedio para la solución 2"
      ]
    },
    {
      "cell_type": "code",
      "metadata": {
        "colab": {
          "base_uri": "https://localhost:8080/",
          "height": 172
        },
        "id": "vDJanI0LOLHp",
        "outputId": "55569422-438d-4791-d07d-e11168447d3d"
      },
      "source": [
        "rfm_table.groupby('cluster')['monetary'].agg(Monto_promedio=\"mean\")"
      ],
      "execution_count": null,
      "outputs": [
        {
          "output_type": "execute_result",
          "data": {
            "text/html": [
              "<div>\n",
              "<style scoped>\n",
              "    .dataframe tbody tr th:only-of-type {\n",
              "        vertical-align: middle;\n",
              "    }\n",
              "\n",
              "    .dataframe tbody tr th {\n",
              "        vertical-align: top;\n",
              "    }\n",
              "\n",
              "    .dataframe thead th {\n",
              "        text-align: right;\n",
              "    }\n",
              "</style>\n",
              "<table border=\"1\" class=\"dataframe\">\n",
              "  <thead>\n",
              "    <tr style=\"text-align: right;\">\n",
              "      <th></th>\n",
              "      <th>Monto_promedio</th>\n",
              "    </tr>\n",
              "    <tr>\n",
              "      <th>cluster</th>\n",
              "      <th></th>\n",
              "    </tr>\n",
              "  </thead>\n",
              "  <tbody>\n",
              "    <tr>\n",
              "      <th>0</th>\n",
              "      <td>1226.144681</td>\n",
              "    </tr>\n",
              "    <tr>\n",
              "      <th>1</th>\n",
              "      <td>1722.950000</td>\n",
              "    </tr>\n",
              "    <tr>\n",
              "      <th>2</th>\n",
              "      <td>600.679751</td>\n",
              "    </tr>\n",
              "  </tbody>\n",
              "</table>\n",
              "</div>"
            ],
            "text/plain": [
              "         Monto_promedio\n",
              "cluster                \n",
              "0           1226.144681\n",
              "1           1722.950000\n",
              "2            600.679751"
            ]
          },
          "metadata": {
            "tags": []
          },
          "execution_count": 129
        }
      ]
    },
    {
      "cell_type": "markdown",
      "metadata": {
        "id": "z_8owyXyMVvP"
      },
      "source": [
        "#10.\t¿Podríamos realizar algún tipo de pronóstico de monto de transacción con la información?"
      ]
    },
    {
      "cell_type": "code",
      "metadata": {
        "colab": {
          "base_uri": "https://localhost:8080/",
          "height": 446
        },
        "id": "g36fi_N9Mfyo",
        "outputId": "54d9b9dd-6ba2-4e56-eccb-f48171975250"
      },
      "source": [
        "#Graficamos los datos\n",
        "df_T=df.groupby('trans_date')['tran_amount'].agg(Monto_total=\"sum\")\n",
        "df_T"
      ],
      "execution_count": null,
      "outputs": [
        {
          "output_type": "execute_result",
          "data": {
            "text/html": [
              "<div>\n",
              "<style scoped>\n",
              "    .dataframe tbody tr th:only-of-type {\n",
              "        vertical-align: middle;\n",
              "    }\n",
              "\n",
              "    .dataframe tbody tr th {\n",
              "        vertical-align: top;\n",
              "    }\n",
              "\n",
              "    .dataframe thead th {\n",
              "        text-align: right;\n",
              "    }\n",
              "</style>\n",
              "<table border=\"1\" class=\"dataframe\">\n",
              "  <thead>\n",
              "    <tr style=\"text-align: right;\">\n",
              "      <th></th>\n",
              "      <th>Monto_total</th>\n",
              "    </tr>\n",
              "    <tr>\n",
              "      <th>trans_date</th>\n",
              "      <th></th>\n",
              "    </tr>\n",
              "  </thead>\n",
              "  <tbody>\n",
              "    <tr>\n",
              "      <th>2011-05-16</th>\n",
              "      <td>5755</td>\n",
              "    </tr>\n",
              "    <tr>\n",
              "      <th>2011-05-17</th>\n",
              "      <td>5570</td>\n",
              "    </tr>\n",
              "    <tr>\n",
              "      <th>2011-05-18</th>\n",
              "      <td>5698</td>\n",
              "    </tr>\n",
              "    <tr>\n",
              "      <th>2011-05-19</th>\n",
              "      <td>5779</td>\n",
              "    </tr>\n",
              "    <tr>\n",
              "      <th>2011-05-20</th>\n",
              "      <td>6018</td>\n",
              "    </tr>\n",
              "    <tr>\n",
              "      <th>...</th>\n",
              "      <td>...</td>\n",
              "    </tr>\n",
              "    <tr>\n",
              "      <th>2015-03-12</th>\n",
              "      <td>5402</td>\n",
              "    </tr>\n",
              "    <tr>\n",
              "      <th>2015-03-13</th>\n",
              "      <td>5285</td>\n",
              "    </tr>\n",
              "    <tr>\n",
              "      <th>2015-03-14</th>\n",
              "      <td>4857</td>\n",
              "    </tr>\n",
              "    <tr>\n",
              "      <th>2015-03-15</th>\n",
              "      <td>6952</td>\n",
              "    </tr>\n",
              "    <tr>\n",
              "      <th>2015-03-16</th>\n",
              "      <td>6337</td>\n",
              "    </tr>\n",
              "  </tbody>\n",
              "</table>\n",
              "<p>1401 rows × 1 columns</p>\n",
              "</div>"
            ],
            "text/plain": [
              "            Monto_total\n",
              "trans_date             \n",
              "2011-05-16         5755\n",
              "2011-05-17         5570\n",
              "2011-05-18         5698\n",
              "2011-05-19         5779\n",
              "2011-05-20         6018\n",
              "...                 ...\n",
              "2015-03-12         5402\n",
              "2015-03-13         5285\n",
              "2015-03-14         4857\n",
              "2015-03-15         6952\n",
              "2015-03-16         6337\n",
              "\n",
              "[1401 rows x 1 columns]"
            ]
          },
          "metadata": {
            "tags": []
          },
          "execution_count": 132
        }
      ]
    },
    {
      "cell_type": "code",
      "metadata": {
        "colab": {
          "base_uri": "https://localhost:8080/",
          "height": 284
        },
        "id": "53wLiX3mTH-z",
        "outputId": "4df37b2f-0c55-4f18-8a1c-9ba56d829356"
      },
      "source": [
        "plt.plot(df_T)"
      ],
      "execution_count": null,
      "outputs": [
        {
          "output_type": "execute_result",
          "data": {
            "text/plain": [
              "[<matplotlib.lines.Line2D at 0x7fad3c9fadd0>]"
            ]
          },
          "metadata": {
            "tags": []
          },
          "execution_count": 137
        },
        {
          "output_type": "display_data",
          "data": {
            "image/png": "[encoded data removed]",
            "text/plain": [
              "<Figure size 432x288 with 1 Axes>"
            ]
          },
          "metadata": {
            "tags": [],
            "needs_background": "light"
          }
        }
      ]
    },
    {
      "cell_type": "code",
      "metadata": {
        "colab": {
          "base_uri": "https://localhost:8080/",
          "height": 298
        },
        "id": "RHbxgGZGStdd",
        "outputId": "81d49387-5859-402b-8830-151fa8c06eda"
      },
      "source": [
        "plt.title('Histograma Monto total')\n",
        "plt.hist(df_T.Monto_total)\n",
        "plt.grid(True)\n",
        "plt.show()\n",
        "plt.clf()"
      ],
      "execution_count": null,
      "outputs": [
        {
          "output_type": "display_data",
          "data": {
            "image/png": "[encoded data removed]",
            "text/plain": [
              "<Figure size 432x288 with 1 Axes>"
            ]
          },
          "metadata": {
            "tags": [],
            "needs_background": "light"
          }
        },
        {
          "output_type": "display_data",
          "data": {
            "text/plain": [
              "<Figure size 432x288 with 0 Axes>"
            ]
          },
          "metadata": {
            "tags": []
          }
        }
      ]
    },
    {
      "cell_type": "markdown",
      "metadata": {
        "id": "r2gfqPf0Uafg"
      },
      "source": [
        "Al graficar por fecha completa, los datos parecen ruido blanco y el ruido blanco no puede ser pronosticado por lo que revisamos solo a total mes- año "
      ]
    },
    {
      "cell_type": "code",
      "metadata": {
        "id": "bBF26tWpbB9c"
      },
      "source": [
        "df_ST=df.copy()"
      ],
      "execution_count": 5,
      "outputs": []
    },
    {
      "cell_type": "markdown",
      "metadata": {
        "id": "KBbTu4vHf8bw"
      },
      "source": [
        "corto la fecha solo a mes-año y dejo el monto total por mes año"
      ]
    },
    {
      "cell_type": "code",
      "metadata": {
        "colab": {
          "base_uri": "https://localhost:8080/",
          "height": 1000
        },
        "id": "ZU_nN0AWfGIQ",
        "outputId": "7dcacafa-4dff-4e0a-a055-78090065e572"
      },
      "source": [
        "df_ST['trans_date']=pd.to_datetime(df_ST['trans_date']).dt.strftime('%Y-%m')\n",
        "df_T=df_ST.groupby('trans_date')['tran_amount'].agg(Monto_total=\"sum\")\n",
        "df_T"
      ],
      "execution_count": 6,
      "outputs": [
        {
          "output_type": "execute_result",
          "data": {
            "text/html": [
              "<div>\n",
              "<style scoped>\n",
              "    .dataframe tbody tr th:only-of-type {\n",
              "        vertical-align: middle;\n",
              "    }\n",
              "\n",
              "    .dataframe tbody tr th {\n",
              "        vertical-align: top;\n",
              "    }\n",
              "\n",
              "    .dataframe thead th {\n",
              "        text-align: right;\n",
              "    }\n",
              "</style>\n",
              "<table border=\"1\" class=\"dataframe\">\n",
              "  <thead>\n",
              "    <tr style=\"text-align: right;\">\n",
              "      <th></th>\n",
              "      <th>Monto_total</th>\n",
              "    </tr>\n",
              "    <tr>\n",
              "      <th>trans_date</th>\n",
              "      <th></th>\n",
              "    </tr>\n",
              "  </thead>\n",
              "  <tbody>\n",
              "    <tr>\n",
              "      <th>2011-05</th>\n",
              "      <td>98951</td>\n",
              "    </tr>\n",
              "    <tr>\n",
              "      <th>2011-06</th>\n",
              "      <td>174527</td>\n",
              "    </tr>\n",
              "    <tr>\n",
              "      <th>2011-07</th>\n",
              "      <td>178097</td>\n",
              "    </tr>\n",
              "    <tr>\n",
              "      <th>2011-08</th>\n",
              "      <td>188631</td>\n",
              "    </tr>\n",
              "    <tr>\n",
              "      <th>2011-09</th>\n",
              "      <td>169173</td>\n",
              "    </tr>\n",
              "    <tr>\n",
              "      <th>2011-10</th>\n",
              "      <td>182634</td>\n",
              "    </tr>\n",
              "    <tr>\n",
              "      <th>2011-11</th>\n",
              "      <td>166921</td>\n",
              "    </tr>\n",
              "    <tr>\n",
              "      <th>2011-12</th>\n",
              "      <td>181405</td>\n",
              "    </tr>\n",
              "    <tr>\n",
              "      <th>2012-01</th>\n",
              "      <td>177987</td>\n",
              "    </tr>\n",
              "    <tr>\n",
              "      <th>2012-02</th>\n",
              "      <td>170135</td>\n",
              "    </tr>\n",
              "    <tr>\n",
              "      <th>2012-03</th>\n",
              "      <td>180453</td>\n",
              "    </tr>\n",
              "    <tr>\n",
              "      <th>2012-04</th>\n",
              "      <td>168000</td>\n",
              "    </tr>\n",
              "    <tr>\n",
              "      <th>2012-05</th>\n",
              "      <td>178880</td>\n",
              "    </tr>\n",
              "    <tr>\n",
              "      <th>2012-06</th>\n",
              "      <td>172933</td>\n",
              "    </tr>\n",
              "    <tr>\n",
              "      <th>2012-07</th>\n",
              "      <td>179117</td>\n",
              "    </tr>\n",
              "    <tr>\n",
              "      <th>2012-08</th>\n",
              "      <td>179284</td>\n",
              "    </tr>\n",
              "    <tr>\n",
              "      <th>2012-09</th>\n",
              "      <td>175045</td>\n",
              "    </tr>\n",
              "    <tr>\n",
              "      <th>2012-10</th>\n",
              "      <td>181862</td>\n",
              "    </tr>\n",
              "    <tr>\n",
              "      <th>2012-11</th>\n",
              "      <td>179156</td>\n",
              "    </tr>\n",
              "    <tr>\n",
              "      <th>2012-12</th>\n",
              "      <td>173747</td>\n",
              "    </tr>\n",
              "    <tr>\n",
              "      <th>2013-01</th>\n",
              "      <td>181729</td>\n",
              "    </tr>\n",
              "    <tr>\n",
              "      <th>2013-02</th>\n",
              "      <td>160359</td>\n",
              "    </tr>\n",
              "    <tr>\n",
              "      <th>2013-03</th>\n",
              "      <td>181491</td>\n",
              "    </tr>\n",
              "    <tr>\n",
              "      <th>2013-04</th>\n",
              "      <td>173642</td>\n",
              "    </tr>\n",
              "    <tr>\n",
              "      <th>2013-05</th>\n",
              "      <td>185826</td>\n",
              "    </tr>\n",
              "    <tr>\n",
              "      <th>2013-06</th>\n",
              "      <td>176813</td>\n",
              "    </tr>\n",
              "    <tr>\n",
              "      <th>2013-07</th>\n",
              "      <td>180983</td>\n",
              "    </tr>\n",
              "    <tr>\n",
              "      <th>2013-08</th>\n",
              "      <td>180031</td>\n",
              "    </tr>\n",
              "    <tr>\n",
              "      <th>2013-09</th>\n",
              "      <td>176830</td>\n",
              "    </tr>\n",
              "    <tr>\n",
              "      <th>2013-10</th>\n",
              "      <td>181521</td>\n",
              "    </tr>\n",
              "    <tr>\n",
              "      <th>2013-11</th>\n",
              "      <td>177341</td>\n",
              "    </tr>\n",
              "    <tr>\n",
              "      <th>2013-12</th>\n",
              "      <td>180802</td>\n",
              "    </tr>\n",
              "    <tr>\n",
              "      <th>2014-01</th>\n",
              "      <td>184554</td>\n",
              "    </tr>\n",
              "    <tr>\n",
              "      <th>2014-02</th>\n",
              "      <td>154151</td>\n",
              "    </tr>\n",
              "    <tr>\n",
              "      <th>2014-03</th>\n",
              "      <td>179804</td>\n",
              "    </tr>\n",
              "    <tr>\n",
              "      <th>2014-04</th>\n",
              "      <td>174149</td>\n",
              "    </tr>\n",
              "    <tr>\n",
              "      <th>2014-05</th>\n",
              "      <td>169555</td>\n",
              "    </tr>\n",
              "    <tr>\n",
              "      <th>2014-06</th>\n",
              "      <td>172741</td>\n",
              "    </tr>\n",
              "    <tr>\n",
              "      <th>2014-07</th>\n",
              "      <td>179026</td>\n",
              "    </tr>\n",
              "    <tr>\n",
              "      <th>2014-08</th>\n",
              "      <td>178975</td>\n",
              "    </tr>\n",
              "    <tr>\n",
              "      <th>2014-09</th>\n",
              "      <td>173385</td>\n",
              "    </tr>\n",
              "    <tr>\n",
              "      <th>2014-10</th>\n",
              "      <td>179303</td>\n",
              "    </tr>\n",
              "    <tr>\n",
              "      <th>2014-11</th>\n",
              "      <td>174855</td>\n",
              "    </tr>\n",
              "    <tr>\n",
              "      <th>2014-12</th>\n",
              "      <td>174010</td>\n",
              "    </tr>\n",
              "    <tr>\n",
              "      <th>2015-01</th>\n",
              "      <td>179837</td>\n",
              "    </tr>\n",
              "    <tr>\n",
              "      <th>2015-02</th>\n",
              "      <td>160509</td>\n",
              "    </tr>\n",
              "    <tr>\n",
              "      <th>2015-03</th>\n",
              "      <td>94829</td>\n",
              "    </tr>\n",
              "  </tbody>\n",
              "</table>\n",
              "</div>"
            ],
            "text/plain": [
              "            Monto_total\n",
              "trans_date             \n",
              "2011-05           98951\n",
              "2011-06          174527\n",
              "2011-07          178097\n",
              "2011-08          188631\n",
              "2011-09          169173\n",
              "2011-10          182634\n",
              "2011-11          166921\n",
              "2011-12          181405\n",
              "2012-01          177987\n",
              "2012-02          170135\n",
              "2012-03          180453\n",
              "2012-04          168000\n",
              "2012-05          178880\n",
              "2012-06          172933\n",
              "2012-07          179117\n",
              "2012-08          179284\n",
              "2012-09          175045\n",
              "2012-10          181862\n",
              "2012-11          179156\n",
              "2012-12          173747\n",
              "2013-01          181729\n",
              "2013-02          160359\n",
              "2013-03          181491\n",
              "2013-04          173642\n",
              "2013-05          185826\n",
              "2013-06          176813\n",
              "2013-07          180983\n",
              "2013-08          180031\n",
              "2013-09          176830\n",
              "2013-10          181521\n",
              "2013-11          177341\n",
              "2013-12          180802\n",
              "2014-01          184554\n",
              "2014-02          154151\n",
              "2014-03          179804\n",
              "2014-04          174149\n",
              "2014-05          169555\n",
              "2014-06          172741\n",
              "2014-07          179026\n",
              "2014-08          178975\n",
              "2014-09          173385\n",
              "2014-10          179303\n",
              "2014-11          174855\n",
              "2014-12          174010\n",
              "2015-01          179837\n",
              "2015-02          160509\n",
              "2015-03           94829"
            ]
          },
          "metadata": {
            "tags": []
          },
          "execution_count": 6
        }
      ]
    },
    {
      "cell_type": "code",
      "metadata": {
        "colab": {
          "base_uri": "https://localhost:8080/"
        },
        "id": "VUsbzWE_iyyR",
        "outputId": "6faeb6cb-d522-47e8-e645-acd2deaf5580"
      },
      "source": [
        "df_T.shape"
      ],
      "execution_count": 16,
      "outputs": [
        {
          "output_type": "execute_result",
          "data": {
            "text/plain": [
              "(47, 1)"
            ]
          },
          "metadata": {
            "tags": []
          },
          "execution_count": 16
        }
      ]
    },
    {
      "cell_type": "code",
      "metadata": {
        "colab": {
          "base_uri": "https://localhost:8080/",
          "height": 513
        },
        "id": "h1Gi6pBsgs5s",
        "outputId": "262e3a27-83bc-4cd5-afa4-fd2c458d400f"
      },
      "source": [
        "import matplotlib.pyplot as plt\n",
        "\n",
        "#Visualición de datos\n",
        "X=[df_T['Monto_total']]\n",
        "plt.boxplot(X)\n",
        "plt.show()\n",
        "\n",
        "plt.plot(df_T)\n",
        "plt.show()\n",
        "\n"
      ],
      "execution_count": 11,
      "outputs": [
        {
          "output_type": "display_data",
          "data": {
            "image/png": "[encoded data removed]",
            "text/plain": [
              "<Figure size 432x288 with 1 Axes>"
            ]
          },
          "metadata": {
            "tags": [],
            "needs_background": "light"
          }
        },
        {
          "output_type": "display_data",
          "data": {
            "image/png": "[encoded data removed]",
            "text/plain": [
              "<Figure size 432x288 with 1 Axes>"
            ]
          },
          "metadata": {
            "tags": [],
            "needs_background": "light"
          }
        }
      ]
    },
    {
      "cell_type": "markdown",
      "metadata": {
        "id": "uaEM8nArgOIQ"
      },
      "source": [
        "Los datos se ven mucho mejor por lo que buscaremos hacer un pronostico a nivel mes"
      ]
    },
    {
      "cell_type": "markdown",
      "metadata": {
        "id": "yndH5CspggjD"
      },
      "source": [
        "#Model Holt Winters"
      ]
    },
    {
      "cell_type": "code",
      "metadata": {
        "colab": {
          "base_uri": "https://localhost:8080/"
        },
        "id": "N-m0tLJjiWHk",
        "outputId": "af023070-9b00-4217-e8ac-9ca9a7e27781"
      },
      "source": [
        "#Las librerias necesarias son las siguientes\n",
        "import matplotlib.pyplot as plt\n",
        "from pandas.plotting import register_matplotlib_converters\n",
        "from matplotlib.dates import DateFormatter\n",
        "from matplotlib import dates as mpld\n",
        "\n",
        "\n",
        "from statsmodels.tsa.seasonal import seasonal_decompose\n",
        "\n",
        "\n",
        "from statsmodels.tsa.holtwinters import ExponentialSmoothing"
      ],
      "execution_count": 12,
      "outputs": [
        {
          "output_type": "stream",
          "text": [
            "/usr/local/lib/python3.7/dist-packages/statsmodels/tools/_testing.py:19: FutureWarning: pandas.util.testing is deprecated. Use the functions in the public API at pandas.testing instead.\n",
            "  import pandas.util.testing as tm\n"
          ],
          "name": "stderr"
        }
      ]
    },
    {
      "cell_type": "markdown",
      "metadata": {
        "id": "Sa8jslw37iNW"
      },
      "source": [
        "Revisamos graficamente la tendencia, la estacionalidad y el residuo por metodo aditivo.\n",
        "En ellas nos podemos percatar que sí tiene tendencia ascendente, y estacionalidad"
      ]
    },
    {
      "cell_type": "code",
      "metadata": {
        "id": "q7b1f66imLNR"
      },
      "source": [
        "from statsmodels.tsa.api import ExponentialSmoothing, SimpleExpSmoothing, Holt"
      ],
      "execution_count": 24,
      "outputs": []
    },
    {
      "cell_type": "code",
      "metadata": {
        "colab": {
          "base_uri": "https://localhost:8080/",
          "height": 296
        },
        "id": "mk-Q74OhmPbl",
        "outputId": "f645b11a-92d5-4fe7-a13f-688932c3b5bd"
      },
      "source": [
        "import statsmodels.api as sm\n",
        "sm.tsa.seasonal_decompose(train.Monto_total ,freq=12 ,model='additive').plot()\n",
        "result = sm.tsa.stattools.adfuller(train.Monto_total , autolag='AIC')\n",
        "plt.show()"
      ],
      "execution_count": 26,
      "outputs": [
        {
          "output_type": "display_data",
          "data": {
            "image/png": "[encoded data removed]",
            "text/plain": [
              "<Figure size 432x288 with 4 Axes>"
            ]
          },
          "metadata": {
            "tags": [],
            "needs_background": "light"
          }
        }
      ]
    },
    {
      "cell_type": "markdown",
      "metadata": {
        "id": "Y6XUXNuT4xXY"
      },
      "source": [
        "Separaré los datos dejando algunos para revisar la acertividad del pronostico"
      ]
    },
    {
      "cell_type": "code",
      "metadata": {
        "colab": {
          "base_uri": "https://localhost:8080/",
          "height": 227
        },
        "id": "jCkWLYklifbA",
        "outputId": "928ab152-2d4e-4939-f4ef-696ad3027585"
      },
      "source": [
        "train=df_T[0:40]\n",
        "train.head()"
      ],
      "execution_count": 14,
      "outputs": [
        {
          "output_type": "execute_result",
          "data": {
            "text/html": [
              "<div>\n",
              "<style scoped>\n",
              "    .dataframe tbody tr th:only-of-type {\n",
              "        vertical-align: middle;\n",
              "    }\n",
              "\n",
              "    .dataframe tbody tr th {\n",
              "        vertical-align: top;\n",
              "    }\n",
              "\n",
              "    .dataframe thead th {\n",
              "        text-align: right;\n",
              "    }\n",
              "</style>\n",
              "<table border=\"1\" class=\"dataframe\">\n",
              "  <thead>\n",
              "    <tr style=\"text-align: right;\">\n",
              "      <th></th>\n",
              "      <th>Monto_total</th>\n",
              "    </tr>\n",
              "    <tr>\n",
              "      <th>trans_date</th>\n",
              "      <th></th>\n",
              "    </tr>\n",
              "  </thead>\n",
              "  <tbody>\n",
              "    <tr>\n",
              "      <th>2011-05</th>\n",
              "      <td>98951</td>\n",
              "    </tr>\n",
              "    <tr>\n",
              "      <th>2011-06</th>\n",
              "      <td>174527</td>\n",
              "    </tr>\n",
              "    <tr>\n",
              "      <th>2011-07</th>\n",
              "      <td>178097</td>\n",
              "    </tr>\n",
              "    <tr>\n",
              "      <th>2011-08</th>\n",
              "      <td>188631</td>\n",
              "    </tr>\n",
              "    <tr>\n",
              "      <th>2011-09</th>\n",
              "      <td>169173</td>\n",
              "    </tr>\n",
              "  </tbody>\n",
              "</table>\n",
              "</div>"
            ],
            "text/plain": [
              "            Monto_total\n",
              "trans_date             \n",
              "2011-05           98951\n",
              "2011-06          174527\n",
              "2011-07          178097\n",
              "2011-08          188631\n",
              "2011-09          169173"
            ]
          },
          "metadata": {
            "tags": []
          },
          "execution_count": 14
        }
      ]
    },
    {
      "cell_type": "code",
      "metadata": {
        "colab": {
          "base_uri": "https://localhost:8080/",
          "height": 227
        },
        "id": "76n5TnjUkGto",
        "outputId": "6095a290-e997-467e-8830-5cde7aabfe79"
      },
      "source": [
        "test=df_T[40:]\n",
        "test.head()"
      ],
      "execution_count": 29,
      "outputs": [
        {
          "output_type": "execute_result",
          "data": {
            "text/html": [
              "<div>\n",
              "<style scoped>\n",
              "    .dataframe tbody tr th:only-of-type {\n",
              "        vertical-align: middle;\n",
              "    }\n",
              "\n",
              "    .dataframe tbody tr th {\n",
              "        vertical-align: top;\n",
              "    }\n",
              "\n",
              "    .dataframe thead th {\n",
              "        text-align: right;\n",
              "    }\n",
              "</style>\n",
              "<table border=\"1\" class=\"dataframe\">\n",
              "  <thead>\n",
              "    <tr style=\"text-align: right;\">\n",
              "      <th></th>\n",
              "      <th>Monto_total</th>\n",
              "    </tr>\n",
              "    <tr>\n",
              "      <th>trans_date</th>\n",
              "      <th></th>\n",
              "    </tr>\n",
              "  </thead>\n",
              "  <tbody>\n",
              "    <tr>\n",
              "      <th>2014-09</th>\n",
              "      <td>173385</td>\n",
              "    </tr>\n",
              "    <tr>\n",
              "      <th>2014-10</th>\n",
              "      <td>179303</td>\n",
              "    </tr>\n",
              "    <tr>\n",
              "      <th>2014-11</th>\n",
              "      <td>174855</td>\n",
              "    </tr>\n",
              "    <tr>\n",
              "      <th>2014-12</th>\n",
              "      <td>174010</td>\n",
              "    </tr>\n",
              "    <tr>\n",
              "      <th>2015-01</th>\n",
              "      <td>179837</td>\n",
              "    </tr>\n",
              "  </tbody>\n",
              "</table>\n",
              "</div>"
            ],
            "text/plain": [
              "            Monto_total\n",
              "trans_date             \n",
              "2014-09          173385\n",
              "2014-10          179303\n",
              "2014-11          174855\n",
              "2014-12          174010\n",
              "2015-01          179837"
            ]
          },
          "metadata": {
            "tags": []
          },
          "execution_count": 29
        }
      ]
    },
    {
      "cell_type": "markdown",
      "metadata": {
        "id": "kag3Fxgx5E5K"
      },
      "source": [
        "Ejecuto la función ya programada en Python para el método Holt Winter"
      ]
    },
    {
      "cell_type": "code",
      "metadata": {
        "colab": {
          "base_uri": "https://localhost:8080/",
          "height": 516
        },
        "id": "8wZfwu_VkS9q",
        "outputId": "b9a41f2e-1faa-43f8-d055-909d8aa8a911"
      },
      "source": [
        "y_hat_avg = test.copy()\n",
        "fit1= ExponentialSmoothing(np.asanyarray(train['Monto_total']), seasonal_periods=12, trend='add' ,seasonal='add').fit()\n",
        "y_hat_avg['Monto_total'] = fit1.forecast(len(test))\n",
        "\n",
        "plt.figure(figsize=(16,8))\n",
        "plt.plot(train['Monto_total'], label='Train')\n",
        "plt.plot(test['Monto_total'], label='Test')\n",
        "plt.plot(y_hat_avg['Monto_total'], label='Holt_Winter')\n",
        "plt.legend(loc='best')\n",
        "plt.show()"
      ],
      "execution_count": 31,
      "outputs": [
        {
          "output_type": "stream",
          "text": [
            "/usr/local/lib/python3.7/dist-packages/statsmodels/tsa/holtwinters.py:712: ConvergenceWarning: Optimization failed to converge. Check mle_retvals.\n",
            "  ConvergenceWarning)\n"
          ],
          "name": "stderr"
        },
        {
          "output_type": "display_data",
          "data": {
            "image/png": "[encoded data removed]",
            "text/plain": [
              "<Figure size 1152x576 with 1 Axes>"
            ]
          },
          "metadata": {
            "tags": [],
            "needs_background": "light"
          }
        }
      ]
    },
    {
      "cell_type": "markdown",
      "metadata": {
        "id": "fgRWiKJP5O5n"
      },
      "source": [
        "En la grafica podemos ver de color verde el pronostico que nos da Holt Winter, el cual es similar a la linea naranja los datos reales"
      ]
    },
    {
      "cell_type": "code",
      "metadata": {
        "colab": {
          "base_uri": "https://localhost:8080/"
        },
        "id": "VZS581LallRO",
        "outputId": "01df7e72-d900-406e-9486-a2f54c3c79f4"
      },
      "source": [
        "from sklearn.metrics import mean_squared_error\n",
        "from math import sqrt\n",
        "rms = sqrt(mean_squared_error(test.Monto_total , y_hat_avg.Monto_total))\n",
        "print(rms)"
      ],
      "execution_count": 23,
      "outputs": [
        {
          "output_type": "stream",
          "text": [
            "33315.51942000334\n"
          ],
          "name": "stdout"
        }
      ]
    },
    {
      "cell_type": "markdown",
      "metadata": {
        "id": "RTyt28J45eU1"
      },
      "source": [
        "El error cuadratico medio de nuestros datos es de 33,315"
      ]
    },
    {
      "cell_type": "markdown",
      "metadata": {
        "id": "vrMSGaeX6rxt"
      },
      "source": [
        "Revisamos ahora con el metodo de Holt Winters lineal para ver si el error es menor"
      ]
    },
    {
      "cell_type": "code",
      "metadata": {
        "colab": {
          "base_uri": "https://localhost:8080/",
          "height": 483
        },
        "id": "ycyym2RkmfHU",
        "outputId": "907c5b17-cff4-4472-c15e-905be4f52ca7"
      },
      "source": [
        "y_hat_avg = test.copy()\n",
        "\n",
        "fit1 = Holt(np.asarray(train['Monto_total'])).fit(smoothing_level = 0.2,smoothing_slope = 0.5)\n",
        "y_hat_avg['Holt_linear'] = fit1.forecast(len(test))\n",
        "\n",
        "plt.figure(figsize=(16,8))\n",
        "plt.plot(train['Monto_total'], label='Train')\n",
        "plt.plot(test['Monto_total'], label='Test')\n",
        "plt.plot(y_hat_avg['Holt_linear'], label='Holt_linear')\n",
        "plt.legend(loc='best')\n",
        "plt.show()"
      ],
      "execution_count": 27,
      "outputs": [
        {
          "output_type": "display_data",
          "data": {
            "image/png": "[encoded data removed]",
            "text/plain": [
              "<Figure size 1152x576 with 1 Axes>"
            ]
          },
          "metadata": {
            "tags": [],
            "needs_background": "light"
          }
        }
      ]
    },
    {
      "cell_type": "markdown",
      "metadata": {
        "id": "LSo4_X986rCb"
      },
      "source": [
        "El error cuadratico medio es similar por lo que podriamos usar cualquier metodo"
      ]
    },
    {
      "cell_type": "code",
      "metadata": {
        "colab": {
          "base_uri": "https://localhost:8080/"
        },
        "id": "xM2hnP5BnK9Y",
        "outputId": "e638c94c-1951-48d1-e295-50d53cde2a5e"
      },
      "source": [
        "rms = sqrt(mean_squared_error(test.Monto_total , y_hat_avg.Monto_total))\n",
        "print(rms)"
      ],
      "execution_count": 32,
      "outputs": [
        {
          "output_type": "stream",
          "text": [
            "33315.51942000334\n"
          ],
          "name": "stdout"
        }
      ]
    }
  ]
}